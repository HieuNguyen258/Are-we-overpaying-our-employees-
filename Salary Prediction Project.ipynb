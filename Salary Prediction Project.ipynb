{
 "cells": [
  {
   "cell_type": "markdown",
   "metadata": {},
   "source": [
    "# Salary Predictions Based on Job Descriptions\n",
    "***"
   ]
  },
  {
   "cell_type": "markdown",
   "metadata": {},
   "source": [
    "# Part 1 - DEFINE"
   ]
  },
  {
   "cell_type": "markdown",
   "metadata": {},
   "source": [
    "### ---- 1 Define the problem ----"
   ]
  },
  {
   "cell_type": "markdown",
   "metadata": {},
   "source": [
    "This is a salary prediction problem.\n",
    "\n",
    "The training set contains jobs where both job descriptions and salaries are available. The test set contains jobs where only job descriptions are available.\n",
    "\n",
    "The objective is to learn from the information provided in the job description to predict the salary. \n",
    "\n",
    "The predicted salary can inform key decision makers when deciding on a prospective employee offer package. This predicted salary can also help with employee retention as company may lose their best employee to another employer who is willing to pay them more for the same job."
   ]
  },
  {
   "cell_type": "code",
   "execution_count": 1,
   "metadata": {},
   "outputs": [],
   "source": [
    "#import libraries\n",
    "\n",
    "#computing libs\n",
    "import pandas as pd\n",
    "import numpy as np\n",
    "import scipy as sp\n",
    "\n",
    "#viz libs\n",
    "import seaborn as sns\n",
    "import matplotlib.pyplot as plt\n",
    "from matplotlib.backends.backend_pdf import PdfPages\n",
    "%matplotlib inline\n",
    "\n",
    "#ml libs\n",
    "import sklearn as sk\n",
    "from sklearn.metrics import mean_squared_error\n",
    "from sklearn.model_selection import cross_val_score, KFold, GridSearchCV\n",
    "from sklearn.linear_model import LinearRegression\n",
    "from sklearn.ensemble import RandomForestRegressor, GradientBoostingRegressor\n",
    "\n",
    "#other libs\n",
    "import warnings\n",
    "warnings.filterwarnings('ignore')\n",
    "\n",
    "#info\n",
    "__author__ = \"Hieu Nguyen\"\n",
    "__email__ = \"hieu.t.nguyen.aug25@gmail.com\""
   ]
  },
  {
   "cell_type": "code",
   "execution_count": 2,
   "metadata": {},
   "outputs": [],
   "source": [
    "#helper functions\n",
    "\n",
    "#load csv data files into a pandas df\n",
    "def load_file(file):\n",
    "    return pd.read_csv(file)\n",
    "\n",
    "#examine the df\n",
    "def examine(df):\n",
    "    print(df.head())\n",
    "    print('\\n')\n",
    "    print(df.info())\n",
    "\n",
    "def isThisUnique(df, col):\n",
    "    return df[col].duplicated().sum() == 0\n",
    "    \n",
    "#IQR calculator\n",
    "def IQR_calculator(df, col, lower, upper):\n",
    "    IQR = df[col].quantile(upper) - df[col].quantile(lower)\n",
    "    return df[col].quantile(lower) - 1.5*IQR, df[col].quantile(upper) + 1.5*IQR\n",
    "    \n",
    "#merge data\n",
    "def merge_data(df1, df2, key):\n",
    "    return df1.merge(df2, on = key)\n",
    "\n",
    "#clean data function\n",
    "def clean_data(df):\n",
    "    #removes rows where salary equals to zero\n",
    "    return df[df.salary > 0]\n",
    "\n",
    "#encode category features as category data type function\n",
    "def encode_category(df, cat_features):\n",
    "    for cat_feature in cat_features:\n",
    "        df[cat_feature] = df[cat_feature].astype('category')\n",
    "\n",
    "#encode categorical variables with their group mean\n",
    "def encode_label(df, col):\n",
    "    cat_dict ={}\n",
    "    cats = df[col].cat.categories.tolist()\n",
    "    for cat in cats:\n",
    "        cat_dict[cat] = df[df[col] == cat]['salary'].mean()   \n",
    "    df[col] = df[col].map(cat_dict)\n",
    "\n",
    "#create visualize_features function\n",
    "def visualize_features(df, col, gb = 'salary'):\n",
    "    plt.figure(figsize = (18,8))\n",
    "    if df[col].dtype == 'int64':\n",
    "        #if column is numeric, plot a boxplot and the relationship between this feature and salary\n",
    "        plt.subplot(121)\n",
    "        mean = df.groupby(col)[gb].mean()\n",
    "        std = df.groupby(col)[gb].std()\n",
    "        mean.plot()\n",
    "        plt.ylabel(gb)\n",
    "        plt.fill_between(range(len(std.index)), mean.values - std.values, mean.values + std.values, alpha = 0.1)\n",
    "        plt.subplot(122)\n",
    "        sns.boxplot(df[col])\n",
    "    else:\n",
    "        #if column is categorical, plot a boxplot of salary grouped by the category's values\n",
    "        mean = df.groupby(col)[gb].mean()\n",
    "        levels = mean.sort_values().index.tolist()\n",
    "        df[col].cat.reorder_categories(levels, inplace=True)\n",
    "        sns.boxplot(x = col, y = gb, data = df)\n",
    "    plt.ylabel(gb)\n",
    "    plt.show()\n",
    "\n",
    "#compare between train and test data by feature\n",
    "def compare(train, test, col):\n",
    "    df1 = pd.value_counts(train[col]).rename_axis(col).reset_index(name='Train')\n",
    "    df2 = pd.value_counts(test[col]).rename_axis(col).reset_index(name='Test')\n",
    "    df = df1.merge(df2, on = col)\n",
    "    df['Diff'] = df['Train'] - df['Test']\n",
    "    return df\n",
    "    \n",
    "#baseline model\n",
    "def baseline_model(df, feature, kfolds):\n",
    "    kf = KFold(n_splits = kfolds, shuffle = True, random_state = 44)\n",
    "    mse = 0\n",
    "    \n",
    "    for i in range(kfolds):\n",
    "        train_index, test_index = next(kf.split(df), None)\n",
    "        train_fold, test_fold = df.iloc[train_index], df.iloc[test_index]\n",
    "        baseline_salary = train_fold.groupby(feature).mean()\n",
    "        baseline_predict = pd.merge(test_fold, baseline_salary, how = 'left', on = feature, \n",
    "                                    suffixes=('_actual', '_predicted'))\n",
    "        mse += np.mean((baseline_predict['salary_actual'] - baseline_predict['salary_predicted'])**2)\n",
    "    \n",
    "    mse_baseline = mse/kfolds\n",
    "    return mse_baseline\n",
    "\n",
    "#feature engineering\n",
    "def feature_engineering(df, advancedDegree = True, executives = True, seniorManagement = True, \n",
    "                        location = True, imputeAge = True, technical = True, onDemand = True):\n",
    "\n",
    "    if advancedDegree:\n",
    "        #create advancedDegree feature\n",
    "        df['advancedDegree'] = 0\n",
    "        df.loc[df['degree'] == 'MASTERS', 'advancedDegree'] = 1\n",
    "        df.loc[df['degree'] == 'DOCTORAL', 'advancedDegree'] = 1\n",
    "    \n",
    "    if executives:\n",
    "        #create executives feature\n",
    "        df['executives'] = 0\n",
    "        df.loc[df['jobType'] == 'CEO', 'executives'] = 1\n",
    "        df.loc[df['jobType'] == 'CFO', 'executives'] = 1\n",
    "        df.loc[df['jobType'] == 'CTO', 'executives'] = 1\n",
    "        \n",
    "    if seniorManagement: \n",
    "        #create seniorManagement feature\n",
    "        df['seniorManagement'] = 0\n",
    "        df.loc[df['jobType'] == 'SENIOR', 'seniorManagement'] = 1\n",
    "        df.loc[df['jobType'] == 'MANAGER', 'seniorManagement'] = 1\n",
    "        df.loc[df['jobType'] == 'VICE_PRESIDENT', 'seniorManagement'] = 1\n",
    "          \n",
    "    if location:\n",
    "        #create city feature\n",
    "        df['city'] = df['milesFromMetropolis'].apply(lambda x: 1 if x <= 10 else 0)\n",
    "\n",
    "        #create suburb feature\n",
    "        df['suburb'] = df['milesFromMetropolis'].apply(lambda x: 1 if (x > 10) and (x <= 50) else 0)\n",
    "\n",
    "        #create rural feature\n",
    "        df['rural'] = df['milesFromMetropolis'].apply(lambda x: 1 if x > 50 else 0)\n",
    "        \n",
    "    if imputeAge:\n",
    "        #create imputedAge feature \n",
    "        df['imputedAge'] = 7 + df['yearsExperience']\n",
    "        df.loc[df['degree'] == 'NONE', 'imputedAge'] += 11\n",
    "        df.loc[df['degree'] == 'HIGH_SCHOOL', 'imputedAge'] += 12\n",
    "        df.loc[df['degree'] == 'BACHELORS', 'imputedAge'] += 16\n",
    "        df.loc[df['degree'] == 'MASTERS', 'imputedAge'] += 18\n",
    "        df.loc[df['degree'] == 'DOCTORAL', 'imputedAge'] += 25\n",
    "    \n",
    "    if technical:\n",
    "        #create technical feature\n",
    "        df['technical'] = 0\n",
    "        df.loc[df['major'] == 'ENGINEERING', 'technical'] = 1\n",
    "        df.loc[df['major'] == 'BUSINESS', 'technical'] = 1\n",
    "        \n",
    "    if onDemand:\n",
    "        #create onDemand feature\n",
    "        df['onDemand'] = 0\n",
    "        df.loc[(df['industry'] == 'OIL'), 'onDemand'] = 1\n",
    "        df.loc[(df['industry'] == 'FINANCE'), 'onDemand'] = 1        \n",
    "            \n",
    "    return df, df.columns\n",
    "    \n",
    "def encode_dummies(df, cat_features):\n",
    "    #produce dummy variables for categorical features\n",
    "    cat_df = pd.get_dummies(df[cat_features])\n",
    "    df = pd.concat([df, cat_df], axis=1)\n",
    "    df = df.drop(cat_features, axis=1)\n",
    "    return df\n",
    "\n",
    "#train models\n",
    "def train_model(model, train_cleaned_features, train_cleaned_target, cv_folds, mean_mse, cv_std):\n",
    "    neg_mse = cross_val_score(model, train_cleaned_features, train_cleaned_target, \n",
    "                              cv = cv_folds, n_jobs = -1, scoring='neg_mean_squared_error')\n",
    "    mean_mse[model] = -1.0*np.mean(neg_mse)\n",
    "    cv_std[model] = np.std(neg_mse)\n",
    "    \n",
    "#print summary\n",
    "def print_summary(model, mean_mse, cv_std):\n",
    "    print('\\nModel:\\n', model)\n",
    "    print('Average MSE:\\n', mean_mse[model])\n",
    "    print('Standard deviation during CV:\\n', cv_std[model])\n",
    "\n",
    "#choose best model\n",
    "def choose_best_model(mean_mse):\n",
    "    best_model = min(mean_mse, key = mean_mse.get)\n",
    "    print('Best model:', best_model)\n",
    "    print('\\n')\n",
    "    print('Best model Cross-validation MSE:', '{:.4f}'.format(mean_mse[best_model]))\n",
    "    return best_model\n",
    "\n",
    "#combine dummy features back together in feature importances    \n",
    "def graph_feature_importances(model, feature_names, autoscale=True, headroom=0.1, width=18, summarized_columns=None):  \n",
    "    feature_dict=dict(zip(feature_names, model.feature_importances_))\n",
    "    for col_name in summarized_columns:\n",
    "        sum_value = sum(x for i, x in feature_dict.items() if col_name in i )\n",
    "        keys_to_remove = [i for i in feature_dict.keys() if col_name in i ]\n",
    "        for i in keys_to_remove:\n",
    "            feature_dict.pop(i)\n",
    "        feature_dict[col_name] = sum_value\n",
    "    results = pd.Series(feature_dict, index=feature_dict.keys())\n",
    "    results.sort_values(inplace=True)\n",
    "    print(results)\n",
    "    results.plot(kind='barh', figsize=(width, len(results)))\n",
    "\n",
    "#saves model, feature importances, predictions, and visualizations\n",
    "def save_results(model, predictions, feature_importances):\n",
    "    with open('model.txt', 'w') as file:\n",
    "        file.write(str(model))\n",
    "    feature_importances.to_csv('feature_importances.csv') \n",
    "    np.savetxt('predictions.csv', predictions, delimiter=',')\n",
    "\n",
    "#produce a table of average salary, average years of experience, and count \n",
    "#of each category for a given categorical feature\n",
    "def summarize_categorical(df, cat, sort_by = 'Mean Salary'):\n",
    "    #calculate the mean salary by given categorical feature\n",
    "    df1 = df.groupby([cat])['salary'].mean().reset_index(name = 'Mean Salary')\n",
    "\n",
    "    #calculate the mean years of Experience by given categorical feature\n",
    "    df2 = df.groupby([cat])['yearsExperience'].mean().reset_index(name = 'Mean Experience')\n",
    "\n",
    "    #count the number of upper outliers by jobType\n",
    "    df3 = df.groupby([cat])['salary'].count().reset_index(name = 'Count')\n",
    "    return df1.join(df2.set_index(cat), on = cat).join(df3.set_index(cat), on = cat).sort_values(by = sort_by, ascending=False)\n",
    "\n",
    "#produce a pivot table of average salary by pairs of features of choice\n",
    "def ave_by(df, values = 'salary', index = 'yearsExperience', columns = 'industry'):\n",
    "    return pd.pivot_table(df, values = values, index = index, columns = columns, aggfunc = np.mean)\n"
   ]
  },
  {
   "cell_type": "markdown",
   "metadata": {},
   "source": [
    "## Part 2 - DISCOVER"
   ]
  },
  {
   "cell_type": "markdown",
   "metadata": {},
   "source": [
    "### ---- 2 Load the data ----"
   ]
  },
  {
   "cell_type": "code",
   "execution_count": 3,
   "metadata": {},
   "outputs": [],
   "source": [
    "#load the data into Pandas dataframes\n",
    "train_features = load_file(\"data/train_features.csv\")\n",
    "train_target = load_file(\"data/train_salaries.csv\")\n",
    "test_features = load_file(\"data/test_features.csv\")"
   ]
  },
  {
   "cell_type": "markdown",
   "metadata": {},
   "source": [
    "#### Examine the train_features df"
   ]
  },
  {
   "cell_type": "code",
   "execution_count": 4,
   "metadata": {},
   "outputs": [
    {
     "name": "stdout",
     "output_type": "stream",
     "text": [
      "              jobId companyId         jobType       degree      major  \\\n",
      "0  JOB1362684407687    COMP37             CFO      MASTERS       MATH   \n",
      "1  JOB1362684407688    COMP19             CEO  HIGH_SCHOOL       NONE   \n",
      "2  JOB1362684407689    COMP52  VICE_PRESIDENT     DOCTORAL    PHYSICS   \n",
      "3  JOB1362684407690    COMP38         MANAGER     DOCTORAL  CHEMISTRY   \n",
      "4  JOB1362684407691     COMP7  VICE_PRESIDENT    BACHELORS    PHYSICS   \n",
      "\n",
      "  industry  yearsExperience  milesFromMetropolis  \n",
      "0   HEALTH               10                   83  \n",
      "1      WEB                3                   73  \n",
      "2   HEALTH               10                   38  \n",
      "3     AUTO                8                   17  \n",
      "4  FINANCE                8                   16  \n",
      "\n",
      "\n",
      "<class 'pandas.core.frame.DataFrame'>\n",
      "RangeIndex: 1000000 entries, 0 to 999999\n",
      "Data columns (total 8 columns):\n",
      "jobId                  1000000 non-null object\n",
      "companyId              1000000 non-null object\n",
      "jobType                1000000 non-null object\n",
      "degree                 1000000 non-null object\n",
      "major                  1000000 non-null object\n",
      "industry               1000000 non-null object\n",
      "yearsExperience        1000000 non-null int64\n",
      "milesFromMetropolis    1000000 non-null int64\n",
      "dtypes: int64(2), object(6)\n",
      "memory usage: 61.0+ MB\n",
      "None\n"
     ]
    }
   ],
   "source": [
    "examine(train_features)"
   ]
  },
  {
   "cell_type": "markdown",
   "metadata": {},
   "source": [
    "#### Examine the train_target df"
   ]
  },
  {
   "cell_type": "code",
   "execution_count": 5,
   "metadata": {},
   "outputs": [
    {
     "name": "stdout",
     "output_type": "stream",
     "text": [
      "              jobId  salary\n",
      "0  JOB1362684407687     130\n",
      "1  JOB1362684407688     101\n",
      "2  JOB1362684407689     137\n",
      "3  JOB1362684407690     142\n",
      "4  JOB1362684407691     163\n",
      "\n",
      "\n",
      "<class 'pandas.core.frame.DataFrame'>\n",
      "RangeIndex: 1000000 entries, 0 to 999999\n",
      "Data columns (total 2 columns):\n",
      "jobId     1000000 non-null object\n",
      "salary    1000000 non-null int64\n",
      "dtypes: int64(1), object(1)\n",
      "memory usage: 15.3+ MB\n",
      "None\n"
     ]
    }
   ],
   "source": [
    "examine(train_target)"
   ]
  },
  {
   "cell_type": "markdown",
   "metadata": {},
   "source": [
    "#### Examine the test_features df"
   ]
  },
  {
   "cell_type": "code",
   "execution_count": 6,
   "metadata": {},
   "outputs": [
    {
     "name": "stdout",
     "output_type": "stream",
     "text": [
      "              jobId companyId  jobType       degree    major industry  \\\n",
      "0  JOB1362685407687    COMP33  MANAGER  HIGH_SCHOOL     NONE   HEALTH   \n",
      "1  JOB1362685407688    COMP13   JUNIOR         NONE     NONE     AUTO   \n",
      "2  JOB1362685407689    COMP10      CTO      MASTERS  BIOLOGY   HEALTH   \n",
      "3  JOB1362685407690    COMP21  MANAGER  HIGH_SCHOOL     NONE      OIL   \n",
      "4  JOB1362685407691    COMP36   JUNIOR     DOCTORAL  BIOLOGY      OIL   \n",
      "\n",
      "   yearsExperience  milesFromMetropolis  \n",
      "0               22                   73  \n",
      "1               20                   47  \n",
      "2               17                    9  \n",
      "3               14                   96  \n",
      "4               10                   44  \n",
      "\n",
      "\n",
      "<class 'pandas.core.frame.DataFrame'>\n",
      "RangeIndex: 1000000 entries, 0 to 999999\n",
      "Data columns (total 8 columns):\n",
      "jobId                  1000000 non-null object\n",
      "companyId              1000000 non-null object\n",
      "jobType                1000000 non-null object\n",
      "degree                 1000000 non-null object\n",
      "major                  1000000 non-null object\n",
      "industry               1000000 non-null object\n",
      "yearsExperience        1000000 non-null int64\n",
      "milesFromMetropolis    1000000 non-null int64\n",
      "dtypes: int64(2), object(6)\n",
      "memory usage: 61.0+ MB\n",
      "None\n"
     ]
    }
   ],
   "source": [
    "examine(test_features)"
   ]
  },
  {
   "cell_type": "markdown",
   "metadata": {},
   "source": [
    "<a id = '3'></a>\n",
    "### ---- 3 Clean the data ----"
   ]
  },
  {
   "cell_type": "markdown",
   "metadata": {},
   "source": [
    "Data Cleaning:\n",
    "- Found **jobId** to be a unique identifier for each row of data\n",
    "- Merged train_features and train_target into a new train df\n",
    "- Found no duplicates\n",
    "- Found no missing or NaN\n",
    "- Dropped 5 rows where salary is zero in the train set (out of a 1,000,000 rows)"
   ]
  },
  {
   "cell_type": "markdown",
   "metadata": {},
   "source": [
    "#### Check for uniqueness of jobId"
   ]
  },
  {
   "cell_type": "code",
   "execution_count": 7,
   "metadata": {},
   "outputs": [
    {
     "name": "stdout",
     "output_type": "stream",
     "text": [
      "test_features:  True\n",
      "train_target:  True\n",
      "train_features:  True\n"
     ]
    },
    {
     "data": {
      "text/plain": [
       "True"
      ]
     },
     "execution_count": 7,
     "metadata": {},
     "output_type": "execute_result"
    }
   ],
   "source": [
    "#is jobId unique?\n",
    "print('test_features: ',isThisUnique(test_features,'jobId'))\n",
    "print('train_target: ',isThisUnique(train_target,'jobId'))\n",
    "print('train_features: ',isThisUnique(train_features,'jobId'))\n",
    "\n",
    "#is jobId the primary_key across train_features and train_target df\n",
    "np.array_equal(train_features['jobId'], train_target['jobId'])"
   ]
  },
  {
   "cell_type": "markdown",
   "metadata": {},
   "source": [
    "#### Merge the train_target and train_features df by jobId"
   ]
  },
  {
   "cell_type": "code",
   "execution_count": 8,
   "metadata": {},
   "outputs": [
    {
     "name": "stdout",
     "output_type": "stream",
     "text": [
      "              jobId companyId         jobType       degree      major  \\\n",
      "0  JOB1362684407687    COMP37             CFO      MASTERS       MATH   \n",
      "1  JOB1362684407688    COMP19             CEO  HIGH_SCHOOL       NONE   \n",
      "2  JOB1362684407689    COMP52  VICE_PRESIDENT     DOCTORAL    PHYSICS   \n",
      "3  JOB1362684407690    COMP38         MANAGER     DOCTORAL  CHEMISTRY   \n",
      "4  JOB1362684407691     COMP7  VICE_PRESIDENT    BACHELORS    PHYSICS   \n",
      "\n",
      "  industry  yearsExperience  milesFromMetropolis  salary  \n",
      "0   HEALTH               10                   83     130  \n",
      "1      WEB                3                   73     101  \n",
      "2   HEALTH               10                   38     137  \n",
      "3     AUTO                8                   17     142  \n",
      "4  FINANCE                8                   16     163  \n",
      "\n",
      "\n",
      "<class 'pandas.core.frame.DataFrame'>\n",
      "Int64Index: 1000000 entries, 0 to 999999\n",
      "Data columns (total 9 columns):\n",
      "jobId                  1000000 non-null object\n",
      "companyId              1000000 non-null object\n",
      "jobType                1000000 non-null object\n",
      "degree                 1000000 non-null object\n",
      "major                  1000000 non-null object\n",
      "industry               1000000 non-null object\n",
      "yearsExperience        1000000 non-null int64\n",
      "milesFromMetropolis    1000000 non-null int64\n",
      "salary                 1000000 non-null int64\n",
      "dtypes: int64(3), object(6)\n",
      "memory usage: 76.3+ MB\n",
      "None\n"
     ]
    }
   ],
   "source": [
    "train = merge_data(train_features, train_target, 'jobId')\n",
    "examine(train)"
   ]
  },
  {
   "cell_type": "markdown",
   "metadata": {},
   "source": [
    "#### Count the number of duplicated rows"
   ]
  },
  {
   "cell_type": "code",
   "execution_count": 9,
   "metadata": {
    "scrolled": true
   },
   "outputs": [
    {
     "name": "stdout",
     "output_type": "stream",
     "text": [
      "train df:  0\n",
      "test_features df:  0\n"
     ]
    }
   ],
   "source": [
    "print('train df: ',train.duplicated().sum())\n",
    "print('test_features df: ',test_features.duplicated().sum())"
   ]
  },
  {
   "cell_type": "markdown",
   "metadata": {},
   "source": [
    "#### Count the total of NA"
   ]
  },
  {
   "cell_type": "code",
   "execution_count": 10,
   "metadata": {},
   "outputs": [
    {
     "data": {
      "text/plain": [
       "jobId                  0\n",
       "companyId              0\n",
       "jobType                0\n",
       "degree                 0\n",
       "major                  0\n",
       "industry               0\n",
       "yearsExperience        0\n",
       "milesFromMetropolis    0\n",
       "salary                 0\n",
       "dtype: int64"
      ]
     },
     "execution_count": 10,
     "metadata": {},
     "output_type": "execute_result"
    }
   ],
   "source": [
    "train.isna().sum()"
   ]
  },
  {
   "cell_type": "code",
   "execution_count": 11,
   "metadata": {},
   "outputs": [
    {
     "data": {
      "text/plain": [
       "jobId                  0\n",
       "companyId              0\n",
       "jobType                0\n",
       "degree                 0\n",
       "major                  0\n",
       "industry               0\n",
       "yearsExperience        0\n",
       "milesFromMetropolis    0\n",
       "dtype: int64"
      ]
     },
     "execution_count": 11,
     "metadata": {},
     "output_type": "execute_result"
    }
   ],
   "source": [
    "test_features.isna().sum()"
   ]
  },
  {
   "cell_type": "markdown",
   "metadata": {},
   "source": [
    "#### Looking for outliers salaries in the train df using the IQR rule"
   ]
  },
  {
   "cell_type": "code",
   "execution_count": 12,
   "metadata": {},
   "outputs": [
    {
     "data": {
      "image/png": "[encoded data removed]",
      "text/plain": [
       "<Figure size 1296x576 with 1 Axes>"
      ]
     },
     "metadata": {
      "needs_background": "light"
     },
     "output_type": "display_data"
    }
   ],
   "source": [
    "plt.figure(figsize = (18,8))\n",
    "sns.boxplot(train.salary)\n",
    "plt.show()"
   ]
  },
  {
   "cell_type": "code",
   "execution_count": 13,
   "metadata": {},
   "outputs": [],
   "source": [
    "lower_whisker, upper_whisker = IQR_calculator(train, 'salary', 0.25, 0.75)"
   ]
  },
  {
   "cell_type": "markdown",
   "metadata": {},
   "source": [
    "#### Outliers at the lower end"
   ]
  },
  {
   "cell_type": "code",
   "execution_count": 14,
   "metadata": {},
   "outputs": [
    {
     "name": "stdout",
     "output_type": "stream",
     "text": [
      "                   jobId companyId         jobType       degree        major  \\\n",
      "30559   JOB1362684438246    COMP44          JUNIOR     DOCTORAL         MATH   \n",
      "495984  JOB1362684903671    COMP34          JUNIOR         NONE         NONE   \n",
      "652076  JOB1362685059763    COMP25             CTO  HIGH_SCHOOL         NONE   \n",
      "816129  JOB1362685223816    COMP42         MANAGER     DOCTORAL  ENGINEERING   \n",
      "828156  JOB1362685235843    COMP40  VICE_PRESIDENT      MASTERS  ENGINEERING   \n",
      "\n",
      "       industry  yearsExperience  milesFromMetropolis  salary  \n",
      "30559      AUTO               11                    7       0  \n",
      "495984      OIL                1                   25       0  \n",
      "652076     AUTO                6                   60       0  \n",
      "816129  FINANCE               18                    6       0  \n",
      "828156      WEB                3                   29       0  \n",
      "\n",
      "\n",
      "<class 'pandas.core.frame.DataFrame'>\n",
      "Int64Index: 5 entries, 30559 to 828156\n",
      "Data columns (total 9 columns):\n",
      "jobId                  5 non-null object\n",
      "companyId              5 non-null object\n",
      "jobType                5 non-null object\n",
      "degree                 5 non-null object\n",
      "major                  5 non-null object\n",
      "industry               5 non-null object\n",
      "yearsExperience        5 non-null int64\n",
      "milesFromMetropolis    5 non-null int64\n",
      "salary                 5 non-null int64\n",
      "dtypes: int64(3), object(6)\n",
      "memory usage: 400.0+ bytes\n",
      "None\n"
     ]
    }
   ],
   "source": [
    "examine(train[train.salary < lower_whisker])"
   ]
  },
  {
   "cell_type": "markdown",
   "metadata": {},
   "source": [
    "**Comment**: Salary equals to zero does not make sense. The salary information in these rows is likely incorrectly recorded."
   ]
  },
  {
   "cell_type": "markdown",
   "metadata": {},
   "source": [
    "#### Outliers at the upper end"
   ]
  },
  {
   "cell_type": "code",
   "execution_count": 15,
   "metadata": {},
   "outputs": [
    {
     "name": "stdout",
     "output_type": "stream",
     "text": [
      "                jobId companyId         jobType    degree    major industry  \\\n",
      "266  JOB1362684407953    COMP30             CEO   MASTERS  BIOLOGY      OIL   \n",
      "362  JOB1362684408049    COMP38             CTO   MASTERS     NONE   HEALTH   \n",
      "560  JOB1362684408247    COMP53             CEO   MASTERS  BIOLOGY      WEB   \n",
      "670  JOB1362684408357    COMP26             CEO   MASTERS     MATH     AUTO   \n",
      "719  JOB1362684408406    COMP54  VICE_PRESIDENT  DOCTORAL  BIOLOGY      OIL   \n",
      "\n",
      "     yearsExperience  milesFromMetropolis  salary  \n",
      "266               23                   60     223  \n",
      "362               24                    3     223  \n",
      "560               22                    7     248  \n",
      "670               23                    9     240  \n",
      "719               21                   14     225  \n",
      "\n",
      "\n",
      "<class 'pandas.core.frame.DataFrame'>\n",
      "Int64Index: 7117 entries, 266 to 999893\n",
      "Data columns (total 9 columns):\n",
      "jobId                  7117 non-null object\n",
      "companyId              7117 non-null object\n",
      "jobType                7117 non-null object\n",
      "degree                 7117 non-null object\n",
      "major                  7117 non-null object\n",
      "industry               7117 non-null object\n",
      "yearsExperience        7117 non-null int64\n",
      "milesFromMetropolis    7117 non-null int64\n",
      "salary                 7117 non-null int64\n",
      "dtypes: int64(3), object(6)\n",
      "memory usage: 556.0+ KB\n",
      "None\n"
     ]
    }
   ],
   "source": [
    "examine(train[train.salary > upper_whisker])"
   ]
  },
  {
   "cell_type": "markdown",
   "metadata": {},
   "source": [
    "#### Breakdown outliers at the upper end by jobType"
   ]
  },
  {
   "cell_type": "code",
   "execution_count": 16,
   "metadata": {},
   "outputs": [
    {
     "data": {
      "text/html": [
       "<div>\n",
       "<style scoped>\n",
       "    .dataframe tbody tr th:only-of-type {\n",
       "        vertical-align: middle;\n",
       "    }\n",
       "\n",
       "    .dataframe tbody tr th {\n",
       "        vertical-align: top;\n",
       "    }\n",
       "\n",
       "    .dataframe thead th {\n",
       "        text-align: right;\n",
       "    }\n",
       "</style>\n",
       "<table border=\"1\" class=\"dataframe\">\n",
       "  <thead>\n",
       "    <tr style=\"text-align: right;\">\n",
       "      <th></th>\n",
       "      <th>jobType</th>\n",
       "      <th>Mean Salary</th>\n",
       "      <th>Mean Experience</th>\n",
       "      <th>Count</th>\n",
       "    </tr>\n",
       "  </thead>\n",
       "  <tbody>\n",
       "    <tr>\n",
       "      <th>0</th>\n",
       "      <td>CEO</td>\n",
       "      <td>235.938953</td>\n",
       "      <td>19.475984</td>\n",
       "      <td>3227</td>\n",
       "    </tr>\n",
       "    <tr>\n",
       "      <th>2</th>\n",
       "      <td>CTO</td>\n",
       "      <td>233.889113</td>\n",
       "      <td>20.129704</td>\n",
       "      <td>1488</td>\n",
       "    </tr>\n",
       "    <tr>\n",
       "      <th>1</th>\n",
       "      <td>CFO</td>\n",
       "      <td>233.816845</td>\n",
       "      <td>20.348930</td>\n",
       "      <td>1496</td>\n",
       "    </tr>\n",
       "    <tr>\n",
       "      <th>6</th>\n",
       "      <td>VICE_PRESIDENT</td>\n",
       "      <td>232.325041</td>\n",
       "      <td>20.842454</td>\n",
       "      <td>603</td>\n",
       "    </tr>\n",
       "    <tr>\n",
       "      <th>4</th>\n",
       "      <td>MANAGER</td>\n",
       "      <td>231.566820</td>\n",
       "      <td>21.364055</td>\n",
       "      <td>217</td>\n",
       "    </tr>\n",
       "    <tr>\n",
       "      <th>5</th>\n",
       "      <td>SENIOR</td>\n",
       "      <td>229.196970</td>\n",
       "      <td>22.257576</td>\n",
       "      <td>66</td>\n",
       "    </tr>\n",
       "    <tr>\n",
       "      <th>3</th>\n",
       "      <td>JUNIOR</td>\n",
       "      <td>227.800000</td>\n",
       "      <td>22.750000</td>\n",
       "      <td>20</td>\n",
       "    </tr>\n",
       "  </tbody>\n",
       "</table>\n",
       "</div>"
      ],
      "text/plain": [
       "          jobType  Mean Salary  Mean Experience  Count\n",
       "0             CEO   235.938953        19.475984   3227\n",
       "2             CTO   233.889113        20.129704   1488\n",
       "1             CFO   233.816845        20.348930   1496\n",
       "6  VICE_PRESIDENT   232.325041        20.842454    603\n",
       "4         MANAGER   231.566820        21.364055    217\n",
       "5          SENIOR   229.196970        22.257576     66\n",
       "3          JUNIOR   227.800000        22.750000     20"
      ]
     },
     "execution_count": 16,
     "metadata": {},
     "output_type": "execute_result"
    }
   ],
   "source": [
    "summarize_categorical(train[train.salary > upper_whisker], 'jobType', sort_by = 'Mean Salary')"
   ]
  },
  {
   "cell_type": "markdown",
   "metadata": {},
   "source": [
    "**Comment**: Many of these upper outliers are executives and senior level staffs with many years of experience. This situation is to be expected in salary data. The most suspicious group are those who held Junior roles."
   ]
  },
  {
   "cell_type": "markdown",
   "metadata": {},
   "source": [
    "#### Look for upper outliers in salary who held Junior roles"
   ]
  },
  {
   "cell_type": "code",
   "execution_count": 17,
   "metadata": {},
   "outputs": [
    {
     "data": {
      "text/html": [
       "<div>\n",
       "<style scoped>\n",
       "    .dataframe tbody tr th:only-of-type {\n",
       "        vertical-align: middle;\n",
       "    }\n",
       "\n",
       "    .dataframe tbody tr th {\n",
       "        vertical-align: top;\n",
       "    }\n",
       "\n",
       "    .dataframe thead th {\n",
       "        text-align: right;\n",
       "    }\n",
       "</style>\n",
       "<table border=\"1\" class=\"dataframe\">\n",
       "  <thead>\n",
       "    <tr style=\"text-align: right;\">\n",
       "      <th></th>\n",
       "      <th>jobId</th>\n",
       "      <th>companyId</th>\n",
       "      <th>jobType</th>\n",
       "      <th>degree</th>\n",
       "      <th>major</th>\n",
       "      <th>industry</th>\n",
       "      <th>yearsExperience</th>\n",
       "      <th>milesFromMetropolis</th>\n",
       "      <th>salary</th>\n",
       "    </tr>\n",
       "  </thead>\n",
       "  <tbody>\n",
       "    <tr>\n",
       "      <th>1222</th>\n",
       "      <td>JOB1362684408909</td>\n",
       "      <td>COMP40</td>\n",
       "      <td>JUNIOR</td>\n",
       "      <td>MASTERS</td>\n",
       "      <td>COMPSCI</td>\n",
       "      <td>OIL</td>\n",
       "      <td>24</td>\n",
       "      <td>5</td>\n",
       "      <td>225</td>\n",
       "    </tr>\n",
       "    <tr>\n",
       "      <th>27710</th>\n",
       "      <td>JOB1362684435397</td>\n",
       "      <td>COMP21</td>\n",
       "      <td>JUNIOR</td>\n",
       "      <td>DOCTORAL</td>\n",
       "      <td>ENGINEERING</td>\n",
       "      <td>OIL</td>\n",
       "      <td>24</td>\n",
       "      <td>3</td>\n",
       "      <td>246</td>\n",
       "    </tr>\n",
       "    <tr>\n",
       "      <th>31355</th>\n",
       "      <td>JOB1362684439042</td>\n",
       "      <td>COMP45</td>\n",
       "      <td>JUNIOR</td>\n",
       "      <td>DOCTORAL</td>\n",
       "      <td>COMPSCI</td>\n",
       "      <td>FINANCE</td>\n",
       "      <td>24</td>\n",
       "      <td>0</td>\n",
       "      <td>225</td>\n",
       "    </tr>\n",
       "    <tr>\n",
       "      <th>100042</th>\n",
       "      <td>JOB1362684507729</td>\n",
       "      <td>COMP17</td>\n",
       "      <td>JUNIOR</td>\n",
       "      <td>DOCTORAL</td>\n",
       "      <td>BUSINESS</td>\n",
       "      <td>FINANCE</td>\n",
       "      <td>23</td>\n",
       "      <td>8</td>\n",
       "      <td>248</td>\n",
       "    </tr>\n",
       "    <tr>\n",
       "      <th>160333</th>\n",
       "      <td>JOB1362684568020</td>\n",
       "      <td>COMP18</td>\n",
       "      <td>JUNIOR</td>\n",
       "      <td>DOCTORAL</td>\n",
       "      <td>BUSINESS</td>\n",
       "      <td>FINANCE</td>\n",
       "      <td>22</td>\n",
       "      <td>3</td>\n",
       "      <td>223</td>\n",
       "    </tr>\n",
       "    <tr>\n",
       "      <th>189582</th>\n",
       "      <td>JOB1362684597269</td>\n",
       "      <td>COMP32</td>\n",
       "      <td>JUNIOR</td>\n",
       "      <td>DOCTORAL</td>\n",
       "      <td>BUSINESS</td>\n",
       "      <td>OIL</td>\n",
       "      <td>24</td>\n",
       "      <td>11</td>\n",
       "      <td>221</td>\n",
       "    </tr>\n",
       "    <tr>\n",
       "      <th>214606</th>\n",
       "      <td>JOB1362684622293</td>\n",
       "      <td>COMP47</td>\n",
       "      <td>JUNIOR</td>\n",
       "      <td>MASTERS</td>\n",
       "      <td>BUSINESS</td>\n",
       "      <td>FINANCE</td>\n",
       "      <td>22</td>\n",
       "      <td>4</td>\n",
       "      <td>222</td>\n",
       "    </tr>\n",
       "    <tr>\n",
       "      <th>303778</th>\n",
       "      <td>JOB1362684711465</td>\n",
       "      <td>COMP51</td>\n",
       "      <td>JUNIOR</td>\n",
       "      <td>MASTERS</td>\n",
       "      <td>ENGINEERING</td>\n",
       "      <td>WEB</td>\n",
       "      <td>24</td>\n",
       "      <td>2</td>\n",
       "      <td>226</td>\n",
       "    </tr>\n",
       "    <tr>\n",
       "      <th>348354</th>\n",
       "      <td>JOB1362684756041</td>\n",
       "      <td>COMP56</td>\n",
       "      <td>JUNIOR</td>\n",
       "      <td>DOCTORAL</td>\n",
       "      <td>ENGINEERING</td>\n",
       "      <td>OIL</td>\n",
       "      <td>23</td>\n",
       "      <td>25</td>\n",
       "      <td>226</td>\n",
       "    </tr>\n",
       "    <tr>\n",
       "      <th>427593</th>\n",
       "      <td>JOB1362684835280</td>\n",
       "      <td>COMP54</td>\n",
       "      <td>JUNIOR</td>\n",
       "      <td>DOCTORAL</td>\n",
       "      <td>ENGINEERING</td>\n",
       "      <td>FINANCE</td>\n",
       "      <td>23</td>\n",
       "      <td>3</td>\n",
       "      <td>221</td>\n",
       "    </tr>\n",
       "    <tr>\n",
       "      <th>500739</th>\n",
       "      <td>JOB1362684908426</td>\n",
       "      <td>COMP40</td>\n",
       "      <td>JUNIOR</td>\n",
       "      <td>DOCTORAL</td>\n",
       "      <td>ENGINEERING</td>\n",
       "      <td>OIL</td>\n",
       "      <td>21</td>\n",
       "      <td>0</td>\n",
       "      <td>227</td>\n",
       "    </tr>\n",
       "    <tr>\n",
       "      <th>627534</th>\n",
       "      <td>JOB1362685035221</td>\n",
       "      <td>COMP5</td>\n",
       "      <td>JUNIOR</td>\n",
       "      <td>DOCTORAL</td>\n",
       "      <td>ENGINEERING</td>\n",
       "      <td>OIL</td>\n",
       "      <td>24</td>\n",
       "      <td>29</td>\n",
       "      <td>230</td>\n",
       "    </tr>\n",
       "    <tr>\n",
       "      <th>645555</th>\n",
       "      <td>JOB1362685053242</td>\n",
       "      <td>COMP36</td>\n",
       "      <td>JUNIOR</td>\n",
       "      <td>DOCTORAL</td>\n",
       "      <td>BUSINESS</td>\n",
       "      <td>FINANCE</td>\n",
       "      <td>24</td>\n",
       "      <td>1</td>\n",
       "      <td>225</td>\n",
       "    </tr>\n",
       "    <tr>\n",
       "      <th>656572</th>\n",
       "      <td>JOB1362685064259</td>\n",
       "      <td>COMP28</td>\n",
       "      <td>JUNIOR</td>\n",
       "      <td>DOCTORAL</td>\n",
       "      <td>BUSINESS</td>\n",
       "      <td>OIL</td>\n",
       "      <td>22</td>\n",
       "      <td>3</td>\n",
       "      <td>222</td>\n",
       "    </tr>\n",
       "    <tr>\n",
       "      <th>685775</th>\n",
       "      <td>JOB1362685093462</td>\n",
       "      <td>COMP38</td>\n",
       "      <td>JUNIOR</td>\n",
       "      <td>BACHELORS</td>\n",
       "      <td>ENGINEERING</td>\n",
       "      <td>OIL</td>\n",
       "      <td>24</td>\n",
       "      <td>13</td>\n",
       "      <td>225</td>\n",
       "    </tr>\n",
       "    <tr>\n",
       "      <th>743326</th>\n",
       "      <td>JOB1362685151013</td>\n",
       "      <td>COMP14</td>\n",
       "      <td>JUNIOR</td>\n",
       "      <td>DOCTORAL</td>\n",
       "      <td>BUSINESS</td>\n",
       "      <td>FINANCE</td>\n",
       "      <td>19</td>\n",
       "      <td>0</td>\n",
       "      <td>236</td>\n",
       "    </tr>\n",
       "    <tr>\n",
       "      <th>787674</th>\n",
       "      <td>JOB1362685195361</td>\n",
       "      <td>COMP43</td>\n",
       "      <td>JUNIOR</td>\n",
       "      <td>DOCTORAL</td>\n",
       "      <td>BUSINESS</td>\n",
       "      <td>FINANCE</td>\n",
       "      <td>18</td>\n",
       "      <td>15</td>\n",
       "      <td>232</td>\n",
       "    </tr>\n",
       "    <tr>\n",
       "      <th>796956</th>\n",
       "      <td>JOB1362685204643</td>\n",
       "      <td>COMP30</td>\n",
       "      <td>JUNIOR</td>\n",
       "      <td>MASTERS</td>\n",
       "      <td>BUSINESS</td>\n",
       "      <td>OIL</td>\n",
       "      <td>24</td>\n",
       "      <td>2</td>\n",
       "      <td>228</td>\n",
       "    </tr>\n",
       "    <tr>\n",
       "      <th>855219</th>\n",
       "      <td>JOB1362685262906</td>\n",
       "      <td>COMP13</td>\n",
       "      <td>JUNIOR</td>\n",
       "      <td>MASTERS</td>\n",
       "      <td>ENGINEERING</td>\n",
       "      <td>OIL</td>\n",
       "      <td>22</td>\n",
       "      <td>26</td>\n",
       "      <td>225</td>\n",
       "    </tr>\n",
       "    <tr>\n",
       "      <th>954368</th>\n",
       "      <td>JOB1362685362055</td>\n",
       "      <td>COMP11</td>\n",
       "      <td>JUNIOR</td>\n",
       "      <td>DOCTORAL</td>\n",
       "      <td>BUSINESS</td>\n",
       "      <td>OIL</td>\n",
       "      <td>24</td>\n",
       "      <td>26</td>\n",
       "      <td>223</td>\n",
       "    </tr>\n",
       "  </tbody>\n",
       "</table>\n",
       "</div>"
      ],
      "text/plain": [
       "                   jobId companyId jobType     degree        major industry  \\\n",
       "1222    JOB1362684408909    COMP40  JUNIOR    MASTERS      COMPSCI      OIL   \n",
       "27710   JOB1362684435397    COMP21  JUNIOR   DOCTORAL  ENGINEERING      OIL   \n",
       "31355   JOB1362684439042    COMP45  JUNIOR   DOCTORAL      COMPSCI  FINANCE   \n",
       "100042  JOB1362684507729    COMP17  JUNIOR   DOCTORAL     BUSINESS  FINANCE   \n",
       "160333  JOB1362684568020    COMP18  JUNIOR   DOCTORAL     BUSINESS  FINANCE   \n",
       "189582  JOB1362684597269    COMP32  JUNIOR   DOCTORAL     BUSINESS      OIL   \n",
       "214606  JOB1362684622293    COMP47  JUNIOR    MASTERS     BUSINESS  FINANCE   \n",
       "303778  JOB1362684711465    COMP51  JUNIOR    MASTERS  ENGINEERING      WEB   \n",
       "348354  JOB1362684756041    COMP56  JUNIOR   DOCTORAL  ENGINEERING      OIL   \n",
       "427593  JOB1362684835280    COMP54  JUNIOR   DOCTORAL  ENGINEERING  FINANCE   \n",
       "500739  JOB1362684908426    COMP40  JUNIOR   DOCTORAL  ENGINEERING      OIL   \n",
       "627534  JOB1362685035221     COMP5  JUNIOR   DOCTORAL  ENGINEERING      OIL   \n",
       "645555  JOB1362685053242    COMP36  JUNIOR   DOCTORAL     BUSINESS  FINANCE   \n",
       "656572  JOB1362685064259    COMP28  JUNIOR   DOCTORAL     BUSINESS      OIL   \n",
       "685775  JOB1362685093462    COMP38  JUNIOR  BACHELORS  ENGINEERING      OIL   \n",
       "743326  JOB1362685151013    COMP14  JUNIOR   DOCTORAL     BUSINESS  FINANCE   \n",
       "787674  JOB1362685195361    COMP43  JUNIOR   DOCTORAL     BUSINESS  FINANCE   \n",
       "796956  JOB1362685204643    COMP30  JUNIOR    MASTERS     BUSINESS      OIL   \n",
       "855219  JOB1362685262906    COMP13  JUNIOR    MASTERS  ENGINEERING      OIL   \n",
       "954368  JOB1362685362055    COMP11  JUNIOR   DOCTORAL     BUSINESS      OIL   \n",
       "\n",
       "        yearsExperience  milesFromMetropolis  salary  \n",
       "1222                 24                    5     225  \n",
       "27710                24                    3     246  \n",
       "31355                24                    0     225  \n",
       "100042               23                    8     248  \n",
       "160333               22                    3     223  \n",
       "189582               24                   11     221  \n",
       "214606               22                    4     222  \n",
       "303778               24                    2     226  \n",
       "348354               23                   25     226  \n",
       "427593               23                    3     221  \n",
       "500739               21                    0     227  \n",
       "627534               24                   29     230  \n",
       "645555               24                    1     225  \n",
       "656572               22                    3     222  \n",
       "685775               24                   13     225  \n",
       "743326               19                    0     236  \n",
       "787674               18                   15     232  \n",
       "796956               24                    2     228  \n",
       "855219               22                   26     225  \n",
       "954368               24                   26     223  "
      ]
     },
     "execution_count": 17,
     "metadata": {},
     "output_type": "execute_result"
    }
   ],
   "source": [
    "train[(train.salary > upper_whisker) & (train.jobType == 'JUNIOR')]"
   ]
  },
  {
   "cell_type": "markdown",
   "metadata": {},
   "source": [
    "**Comment**: These upper outliers who held Junior roles are all located in the Finance and Oil industry. They have many years of experience on the job. Moreover, many of them also held terminal degrees in Business or Engineering. Their high salary is to be expected."
   ]
  },
  {
   "cell_type": "markdown",
   "metadata": {},
   "source": [
    "#### Data cleaning decision: \n",
    "Do not drop any of the upper outliers. Drop rows where salary is zero (5 rows to be dropped)"
   ]
  },
  {
   "cell_type": "code",
   "execution_count": 18,
   "metadata": {},
   "outputs": [],
   "source": [
    "train_cleaned = clean_data(train)"
   ]
  },
  {
   "cell_type": "markdown",
   "metadata": {},
   "source": [
    "### ---- 4 Explore the data (EDA) ----"
   ]
  },
  {
   "cell_type": "code",
   "execution_count": 19,
   "metadata": {},
   "outputs": [],
   "source": [
    "cat_features = ['companyId', 'jobType', 'degree', 'major', 'industry']\n",
    "num_features = ['yearsExperience', 'milesFromMetropolis']"
   ]
  },
  {
   "cell_type": "code",
   "execution_count": 20,
   "metadata": {},
   "outputs": [],
   "source": [
    "encode_category(train_cleaned, cat_features)"
   ]
  },
  {
   "cell_type": "markdown",
   "metadata": {},
   "source": [
    "#### Visualize the features"
   ]
  },
  {
   "cell_type": "code",
   "execution_count": 21,
   "metadata": {},
   "outputs": [
    {
     "data": {
      "image/png": "[encoded data removed]",
      "text/plain": [
       "<Figure size 1296x576 with 2 Axes>"
      ]
     },
     "metadata": {
      "needs_background": "light"
     },
     "output_type": "display_data"
    }
   ],
   "source": [
    "visualize_features(train_cleaned, 'yearsExperience')"
   ]
  },
  {
   "cell_type": "code",
   "execution_count": 22,
   "metadata": {},
   "outputs": [
    {
     "data": {
      "image/png": "[encoded data removed]",
      "text/plain": [
       "<Figure size 1296x576 with 2 Axes>"
      ]
     },
     "metadata": {
      "needs_background": "light"
     },
     "output_type": "display_data"
    }
   ],
   "source": [
    "visualize_features(train_cleaned, 'milesFromMetropolis')"
   ]
  },
  {
   "cell_type": "code",
   "execution_count": 23,
   "metadata": {},
   "outputs": [
    {
     "data": {
      "image/png": "[encoded data removed]",
      "text/plain": [
       "<Figure size 1296x576 with 1 Axes>"
      ]
     },
     "metadata": {
      "needs_background": "light"
     },
     "output_type": "display_data"
    }
   ],
   "source": [
    "visualize_features(train_cleaned, 'companyId')"
   ]
  },
  {
   "cell_type": "code",
   "execution_count": 24,
   "metadata": {},
   "outputs": [
    {
     "data": {
      "image/png": "[encoded data removed]",
      "text/plain": [
       "<Figure size 1296x576 with 1 Axes>"
      ]
     },
     "metadata": {
      "needs_background": "light"
     },
     "output_type": "display_data"
    }
   ],
   "source": [
    "visualize_features(train_cleaned, 'jobType')"
   ]
  },
  {
   "cell_type": "code",
   "execution_count": 25,
   "metadata": {},
   "outputs": [
    {
     "data": {
      "image/png": "[encoded data removed]",
      "text/plain": [
       "<Figure size 1296x576 with 1 Axes>"
      ]
     },
     "metadata": {
      "needs_background": "light"
     },
     "output_type": "display_data"
    }
   ],
   "source": [
    "visualize_features(train_cleaned, 'degree')"
   ]
  },
  {
   "cell_type": "code",
   "execution_count": 26,
   "metadata": {},
   "outputs": [
    {
     "data": {
      "image/png": "[encoded data removed]",
      "text/plain": [
       "<Figure size 1296x576 with 1 Axes>"
      ]
     },
     "metadata": {
      "needs_background": "light"
     },
     "output_type": "display_data"
    }
   ],
   "source": [
    "visualize_features(train_cleaned, 'major')"
   ]
  },
  {
   "cell_type": "code",
   "execution_count": 27,
   "metadata": {},
   "outputs": [
    {
     "data": {
      "image/png": "[encoded data removed]",
      "text/plain": [
       "<Figure size 1296x576 with 1 Axes>"
      ]
     },
     "metadata": {
      "needs_background": "light"
     },
     "output_type": "display_data"
    }
   ],
   "source": [
    "visualize_features(train_cleaned, 'industry')"
   ]
  },
  {
   "cell_type": "markdown",
   "metadata": {},
   "source": [
    "#### Visualize the cleaned target variable"
   ]
  },
  {
   "cell_type": "code",
   "execution_count": 28,
   "metadata": {},
   "outputs": [
    {
     "data": {
      "image/png": "[encoded data removed]",
      "text/plain": [
       "<Figure size 1296x576 with 2 Axes>"
      ]
     },
     "metadata": {
      "needs_background": "light"
     },
     "output_type": "display_data"
    }
   ],
   "source": [
    "plt.figure(figsize = (18,8))\n",
    "plt.subplot(121)\n",
    "sns.distplot(train_cleaned.salary, bins = 20)\n",
    "plt.subplot(122)\n",
    "sns.boxplot(train_cleaned.salary)\n",
    "plt.show()"
   ]
  },
  {
   "cell_type": "code",
   "execution_count": 29,
   "metadata": {},
   "outputs": [
    {
     "data": {
      "text/plain": [
       "count    999995.000000\n",
       "mean        116.062398\n",
       "std          38.717163\n",
       "min          17.000000\n",
       "25%          88.000000\n",
       "50%         114.000000\n",
       "75%         141.000000\n",
       "max         301.000000\n",
       "Name: salary, dtype: float64"
      ]
     },
     "execution_count": 29,
     "metadata": {},
     "output_type": "execute_result"
    }
   ],
   "source": [
    "train_cleaned['salary'].describe()"
   ]
  },
  {
   "cell_type": "code",
   "execution_count": 30,
   "metadata": {},
   "outputs": [
    {
     "data": {
      "text/plain": [
       "0.3465267592829531"
      ]
     },
     "execution_count": 30,
     "metadata": {},
     "output_type": "execute_result"
    }
   ],
   "source": [
    "sp.stats.skew(train_cleaned.salary)"
   ]
  },
  {
   "cell_type": "markdown",
   "metadata": {},
   "source": [
    "**Comment**: The raw salary is positively skewed but the skewness is very minor. Since the magnitude of the skewness is less than 0.5, this distribution is considered to be approximately symmetric. \n",
    "\n",
    "This means we can keep the upper outliers in the dataset since keeping them do not skew the distribution of our target variable in a major way."
   ]
  },
  {
   "cell_type": "markdown",
   "metadata": {},
   "source": [
    "#### Visualize correlation between features and target variables"
   ]
  },
  {
   "cell_type": "code",
   "execution_count": 31,
   "metadata": {},
   "outputs": [],
   "source": [
    "train_cleaned_encoded = train_cleaned.copy()\n",
    "for col in train_cleaned_encoded.columns:\n",
    "    if train_cleaned_encoded[col].dtype.name == \"category\":\n",
    "        encode_label(train_cleaned_encoded, col)"
   ]
  },
  {
   "cell_type": "code",
   "execution_count": 32,
   "metadata": {},
   "outputs": [
    {
     "data": {
      "image/png": "[encoded data removed]",
      "text/plain": [
       "<Figure size 1296x864 with 2 Axes>"
      ]
     },
     "metadata": {
      "needs_background": "light"
     },
     "output_type": "display_data"
    }
   ],
   "source": [
    "fig = plt.figure(figsize=(18, 12))\n",
    "sns.heatmap(train_cleaned_encoded[cat_features + num_features + ['salary']].corr(), cmap='YlGnBu', annot=True)\n",
    "plt.xticks(rotation=45)\n",
    "plt.show()"
   ]
  },
  {
   "cell_type": "markdown",
   "metadata": {},
   "source": [
    "### ---- 5 Establish a baseline ----"
   ]
  },
  {
   "cell_type": "markdown",
   "metadata": {},
   "source": [
    "Since salary is a numerical and continuous variable. The metric used here is Mean squared error (MSE) measured during 5-fold cross-validation.\n",
    "\n",
    "In this baseline model, we will use the average mean salary for each job type as the predicted salary."
   ]
  },
  {
   "cell_type": "code",
   "execution_count": 33,
   "metadata": {},
   "outputs": [
    {
     "name": "stdout",
     "output_type": "stream",
     "text": [
      "Baseline Model MSE performance:  965.3586899392845\n"
     ]
    }
   ],
   "source": [
    "print('Baseline Model MSE performance: ', baseline_model(train_cleaned, 'jobType', 5))"
   ]
  },
  {
   "cell_type": "markdown",
   "metadata": {},
   "source": [
    "### ---- 6 Hypothesize solution ----"
   ]
  },
  {
   "cell_type": "markdown",
   "metadata": {},
   "source": [
    "Three models will be trained:\n",
    "- Linear Regression\n",
    "- Random Forest Regression\n",
    "- Gradient Boosting Regression\n",
    "\n",
    "New features to be engineered:\n",
    "- **Dummy** features for categorical features: \n",
    "    + jobType, \n",
    "    + degree, \n",
    "    + major, \n",
    "    + industry\n",
    "- **imputedAge**, which assumes about each individual:\n",
    "    + the individual's age is equals to years of education plus years of experience plus 7\n",
    "    + the individual starts his/her formal education when he/she turns 7\n",
    "    + no unemployment during his/her career\n",
    "    + Highschool = 12 yrs\n",
    "    + Bachelor = 16 yrs\n",
    "    + Master's = 18 yrs\n",
    "    + Doctoral = 25 yrs\n",
    "    + For degree = None cases, the individual's imputed age will be 7 plus years of experience plus assumed 11 yrs\n",
    "- **executives**, a dummy feature which equals to \n",
    "    + 1 if jobType is CFO, CTO, or CEO, and \n",
    "    + 0 otherwise\n",
    "- **seniorManagement**, a dummy feature which equals to \n",
    "    + 1 if jobType is Senior, Manager, or Vice President, and \n",
    "    + 0 otherwise\n",
    "- **technical**, a dummy feature which equals to \n",
    "    + 1 if major is Engineering or Business, and \n",
    "    + 0 otherwise\n",
    "- **onDemand**, a dummy feature which equals to \n",
    "    + 1 if industry is Oil or Finance, and \n",
    "    + 0 otherwise\n",
    "- **city**, a dummy feature which equals to \n",
    "    + 1 if the distance from metropolis is less than 10 miles\n",
    "- **suburb**, a dummy feature which equals to \n",
    "    + 1 if the distance from metropolis is between 10 miles and 50 miles\n",
    "- **rural**, a dummy feature which equals to \n",
    "    + 1 if the distance from metropolis is greater than 50 miles"
   ]
  },
  {
   "cell_type": "markdown",
   "metadata": {},
   "source": [
    "## Part 3 - DEVELOP"
   ]
  },
  {
   "cell_type": "markdown",
   "metadata": {},
   "source": [
    "### ---- 7 Engineer features  ----"
   ]
  },
  {
   "cell_type": "code",
   "execution_count": 34,
   "metadata": {},
   "outputs": [
    {
     "data": {
      "text/html": [
       "<div>\n",
       "<style scoped>\n",
       "    .dataframe tbody tr th:only-of-type {\n",
       "        vertical-align: middle;\n",
       "    }\n",
       "\n",
       "    .dataframe tbody tr th {\n",
       "        vertical-align: top;\n",
       "    }\n",
       "\n",
       "    .dataframe thead th {\n",
       "        text-align: right;\n",
       "    }\n",
       "</style>\n",
       "<table border=\"1\" class=\"dataframe\">\n",
       "  <thead>\n",
       "    <tr style=\"text-align: right;\">\n",
       "      <th></th>\n",
       "      <th>jobId</th>\n",
       "      <th>companyId</th>\n",
       "      <th>jobType</th>\n",
       "      <th>degree</th>\n",
       "      <th>major</th>\n",
       "      <th>industry</th>\n",
       "      <th>yearsExperience</th>\n",
       "      <th>milesFromMetropolis</th>\n",
       "      <th>salary</th>\n",
       "    </tr>\n",
       "  </thead>\n",
       "  <tbody>\n",
       "    <tr>\n",
       "      <th>0</th>\n",
       "      <td>JOB1362684407687</td>\n",
       "      <td>COMP37</td>\n",
       "      <td>CFO</td>\n",
       "      <td>MASTERS</td>\n",
       "      <td>MATH</td>\n",
       "      <td>HEALTH</td>\n",
       "      <td>10</td>\n",
       "      <td>83</td>\n",
       "      <td>130</td>\n",
       "    </tr>\n",
       "    <tr>\n",
       "      <th>1</th>\n",
       "      <td>JOB1362684407688</td>\n",
       "      <td>COMP19</td>\n",
       "      <td>CEO</td>\n",
       "      <td>HIGH_SCHOOL</td>\n",
       "      <td>NONE</td>\n",
       "      <td>WEB</td>\n",
       "      <td>3</td>\n",
       "      <td>73</td>\n",
       "      <td>101</td>\n",
       "    </tr>\n",
       "    <tr>\n",
       "      <th>2</th>\n",
       "      <td>JOB1362684407689</td>\n",
       "      <td>COMP52</td>\n",
       "      <td>VICE_PRESIDENT</td>\n",
       "      <td>DOCTORAL</td>\n",
       "      <td>PHYSICS</td>\n",
       "      <td>HEALTH</td>\n",
       "      <td>10</td>\n",
       "      <td>38</td>\n",
       "      <td>137</td>\n",
       "    </tr>\n",
       "    <tr>\n",
       "      <th>3</th>\n",
       "      <td>JOB1362684407690</td>\n",
       "      <td>COMP38</td>\n",
       "      <td>MANAGER</td>\n",
       "      <td>DOCTORAL</td>\n",
       "      <td>CHEMISTRY</td>\n",
       "      <td>AUTO</td>\n",
       "      <td>8</td>\n",
       "      <td>17</td>\n",
       "      <td>142</td>\n",
       "    </tr>\n",
       "    <tr>\n",
       "      <th>4</th>\n",
       "      <td>JOB1362684407691</td>\n",
       "      <td>COMP7</td>\n",
       "      <td>VICE_PRESIDENT</td>\n",
       "      <td>BACHELORS</td>\n",
       "      <td>PHYSICS</td>\n",
       "      <td>FINANCE</td>\n",
       "      <td>8</td>\n",
       "      <td>16</td>\n",
       "      <td>163</td>\n",
       "    </tr>\n",
       "  </tbody>\n",
       "</table>\n",
       "</div>"
      ],
      "text/plain": [
       "              jobId companyId         jobType       degree      major  \\\n",
       "0  JOB1362684407687    COMP37             CFO      MASTERS       MATH   \n",
       "1  JOB1362684407688    COMP19             CEO  HIGH_SCHOOL       NONE   \n",
       "2  JOB1362684407689    COMP52  VICE_PRESIDENT     DOCTORAL    PHYSICS   \n",
       "3  JOB1362684407690    COMP38         MANAGER     DOCTORAL  CHEMISTRY   \n",
       "4  JOB1362684407691     COMP7  VICE_PRESIDENT    BACHELORS    PHYSICS   \n",
       "\n",
       "  industry  yearsExperience  milesFromMetropolis  salary  \n",
       "0   HEALTH               10                   83     130  \n",
       "1      WEB                3                   73     101  \n",
       "2   HEALTH               10                   38     137  \n",
       "3     AUTO                8                   17     142  \n",
       "4  FINANCE                8                   16     163  "
      ]
     },
     "execution_count": 34,
     "metadata": {},
     "output_type": "execute_result"
    }
   ],
   "source": [
    "#cleaned train set before feature engineering\n",
    "train_cleaned.head()"
   ]
  },
  {
   "cell_type": "code",
   "execution_count": 35,
   "metadata": {},
   "outputs": [
    {
     "data": {
      "text/html": [
       "<div>\n",
       "<style scoped>\n",
       "    .dataframe tbody tr th:only-of-type {\n",
       "        vertical-align: middle;\n",
       "    }\n",
       "\n",
       "    .dataframe tbody tr th {\n",
       "        vertical-align: top;\n",
       "    }\n",
       "\n",
       "    .dataframe thead th {\n",
       "        text-align: right;\n",
       "    }\n",
       "</style>\n",
       "<table border=\"1\" class=\"dataframe\">\n",
       "  <thead>\n",
       "    <tr style=\"text-align: right;\">\n",
       "      <th></th>\n",
       "      <th>yearsExperience</th>\n",
       "      <th>milesFromMetropolis</th>\n",
       "      <th>advancedDegree</th>\n",
       "      <th>executives</th>\n",
       "      <th>seniorManagement</th>\n",
       "      <th>city</th>\n",
       "      <th>suburb</th>\n",
       "      <th>rural</th>\n",
       "      <th>imputedAge</th>\n",
       "      <th>technical</th>\n",
       "      <th>...</th>\n",
       "      <th>major_MATH</th>\n",
       "      <th>major_BUSINESS</th>\n",
       "      <th>major_ENGINEERING</th>\n",
       "      <th>industry_EDUCATION</th>\n",
       "      <th>industry_SERVICE</th>\n",
       "      <th>industry_AUTO</th>\n",
       "      <th>industry_HEALTH</th>\n",
       "      <th>industry_WEB</th>\n",
       "      <th>industry_FINANCE</th>\n",
       "      <th>industry_OIL</th>\n",
       "    </tr>\n",
       "  </thead>\n",
       "  <tbody>\n",
       "    <tr>\n",
       "      <th>0</th>\n",
       "      <td>10</td>\n",
       "      <td>83</td>\n",
       "      <td>1</td>\n",
       "      <td>1</td>\n",
       "      <td>0</td>\n",
       "      <td>0</td>\n",
       "      <td>0</td>\n",
       "      <td>1</td>\n",
       "      <td>35</td>\n",
       "      <td>0</td>\n",
       "      <td>...</td>\n",
       "      <td>1</td>\n",
       "      <td>0</td>\n",
       "      <td>0</td>\n",
       "      <td>0</td>\n",
       "      <td>0</td>\n",
       "      <td>0</td>\n",
       "      <td>1</td>\n",
       "      <td>0</td>\n",
       "      <td>0</td>\n",
       "      <td>0</td>\n",
       "    </tr>\n",
       "    <tr>\n",
       "      <th>1</th>\n",
       "      <td>3</td>\n",
       "      <td>73</td>\n",
       "      <td>0</td>\n",
       "      <td>1</td>\n",
       "      <td>0</td>\n",
       "      <td>0</td>\n",
       "      <td>0</td>\n",
       "      <td>1</td>\n",
       "      <td>22</td>\n",
       "      <td>0</td>\n",
       "      <td>...</td>\n",
       "      <td>0</td>\n",
       "      <td>0</td>\n",
       "      <td>0</td>\n",
       "      <td>0</td>\n",
       "      <td>0</td>\n",
       "      <td>0</td>\n",
       "      <td>0</td>\n",
       "      <td>1</td>\n",
       "      <td>0</td>\n",
       "      <td>0</td>\n",
       "    </tr>\n",
       "    <tr>\n",
       "      <th>2</th>\n",
       "      <td>10</td>\n",
       "      <td>38</td>\n",
       "      <td>1</td>\n",
       "      <td>0</td>\n",
       "      <td>1</td>\n",
       "      <td>0</td>\n",
       "      <td>1</td>\n",
       "      <td>0</td>\n",
       "      <td>42</td>\n",
       "      <td>0</td>\n",
       "      <td>...</td>\n",
       "      <td>0</td>\n",
       "      <td>0</td>\n",
       "      <td>0</td>\n",
       "      <td>0</td>\n",
       "      <td>0</td>\n",
       "      <td>0</td>\n",
       "      <td>1</td>\n",
       "      <td>0</td>\n",
       "      <td>0</td>\n",
       "      <td>0</td>\n",
       "    </tr>\n",
       "    <tr>\n",
       "      <th>3</th>\n",
       "      <td>8</td>\n",
       "      <td>17</td>\n",
       "      <td>1</td>\n",
       "      <td>0</td>\n",
       "      <td>1</td>\n",
       "      <td>0</td>\n",
       "      <td>1</td>\n",
       "      <td>0</td>\n",
       "      <td>40</td>\n",
       "      <td>0</td>\n",
       "      <td>...</td>\n",
       "      <td>0</td>\n",
       "      <td>0</td>\n",
       "      <td>0</td>\n",
       "      <td>0</td>\n",
       "      <td>0</td>\n",
       "      <td>1</td>\n",
       "      <td>0</td>\n",
       "      <td>0</td>\n",
       "      <td>0</td>\n",
       "      <td>0</td>\n",
       "    </tr>\n",
       "    <tr>\n",
       "      <th>4</th>\n",
       "      <td>8</td>\n",
       "      <td>16</td>\n",
       "      <td>0</td>\n",
       "      <td>0</td>\n",
       "      <td>1</td>\n",
       "      <td>0</td>\n",
       "      <td>1</td>\n",
       "      <td>0</td>\n",
       "      <td>31</td>\n",
       "      <td>0</td>\n",
       "      <td>...</td>\n",
       "      <td>0</td>\n",
       "      <td>0</td>\n",
       "      <td>0</td>\n",
       "      <td>0</td>\n",
       "      <td>0</td>\n",
       "      <td>0</td>\n",
       "      <td>0</td>\n",
       "      <td>0</td>\n",
       "      <td>1</td>\n",
       "      <td>0</td>\n",
       "    </tr>\n",
       "  </tbody>\n",
       "</table>\n",
       "<p>5 rows × 40 columns</p>\n",
       "</div>"
      ],
      "text/plain": [
       "   yearsExperience  milesFromMetropolis  advancedDegree  executives  \\\n",
       "0               10                   83               1           1   \n",
       "1                3                   73               0           1   \n",
       "2               10                   38               1           0   \n",
       "3                8                   17               1           0   \n",
       "4                8                   16               0           0   \n",
       "\n",
       "   seniorManagement  city  suburb  rural  imputedAge  technical  ...  \\\n",
       "0                 0     0       0      1          35          0  ...   \n",
       "1                 0     0       0      1          22          0  ...   \n",
       "2                 1     0       1      0          42          0  ...   \n",
       "3                 1     0       1      0          40          0  ...   \n",
       "4                 1     0       1      0          31          0  ...   \n",
       "\n",
       "   major_MATH  major_BUSINESS  major_ENGINEERING  industry_EDUCATION  \\\n",
       "0           1               0                  0                   0   \n",
       "1           0               0                  0                   0   \n",
       "2           0               0                  0                   0   \n",
       "3           0               0                  0                   0   \n",
       "4           0               0                  0                   0   \n",
       "\n",
       "   industry_SERVICE  industry_AUTO  industry_HEALTH  industry_WEB  \\\n",
       "0                 0              0                1             0   \n",
       "1                 0              0                0             1   \n",
       "2                 0              0                1             0   \n",
       "3                 0              1                0             0   \n",
       "4                 0              0                0             0   \n",
       "\n",
       "   industry_FINANCE  industry_OIL  \n",
       "0                 0             0  \n",
       "1                 0             0  \n",
       "2                 0             0  \n",
       "3                 0             0  \n",
       "4                 1             0  \n",
       "\n",
       "[5 rows x 40 columns]"
      ]
     },
     "execution_count": 35,
     "metadata": {},
     "output_type": "execute_result"
    }
   ],
   "source": [
    "#removing companyId as a categorical feature, see EDA for detail\n",
    "cat_features = ['jobType', 'degree', 'major', 'industry']\n",
    "num_features = ['yearsExperience', 'milesFromMetropolis']\n",
    "\n",
    "#separate target\n",
    "train_cleaned_target = train_cleaned.salary\n",
    "\n",
    "#create train features df\n",
    "train_cleaned_features = train_cleaned[num_features + cat_features]\n",
    "\n",
    "#feature engineering\n",
    "train_cleaned_features, summarized_columns = feature_engineering(train_cleaned_features)\n",
    "\n",
    "#encode dummies\n",
    "train_cleaned_features = encode_dummies(train_cleaned_features, cat_features)\n",
    "\n",
    "#cleaned train features set after feature engineering\n",
    "train_cleaned_features.head()"
   ]
  },
  {
   "cell_type": "code",
   "execution_count": 36,
   "metadata": {},
   "outputs": [
    {
     "name": "stdout",
     "output_type": "stream",
     "text": [
      "<class 'pandas.core.frame.DataFrame'>\n",
      "Int64Index: 999995 entries, 0 to 999999\n",
      "Data columns (total 40 columns):\n",
      "yearsExperience           999995 non-null int64\n",
      "milesFromMetropolis       999995 non-null int64\n",
      "advancedDegree            999995 non-null int64\n",
      "executives                999995 non-null int64\n",
      "seniorManagement          999995 non-null int64\n",
      "city                      999995 non-null int64\n",
      "suburb                    999995 non-null int64\n",
      "rural                     999995 non-null int64\n",
      "imputedAge                999995 non-null int64\n",
      "technical                 999995 non-null int64\n",
      "onDemand                  999995 non-null int64\n",
      "jobType_JANITOR           999995 non-null uint8\n",
      "jobType_JUNIOR            999995 non-null uint8\n",
      "jobType_SENIOR            999995 non-null uint8\n",
      "jobType_MANAGER           999995 non-null uint8\n",
      "jobType_VICE_PRESIDENT    999995 non-null uint8\n",
      "jobType_CFO               999995 non-null uint8\n",
      "jobType_CTO               999995 non-null uint8\n",
      "jobType_CEO               999995 non-null uint8\n",
      "degree_NONE               999995 non-null uint8\n",
      "degree_HIGH_SCHOOL        999995 non-null uint8\n",
      "degree_BACHELORS          999995 non-null uint8\n",
      "degree_MASTERS            999995 non-null uint8\n",
      "degree_DOCTORAL           999995 non-null uint8\n",
      "major_NONE                999995 non-null uint8\n",
      "major_LITERATURE          999995 non-null uint8\n",
      "major_BIOLOGY             999995 non-null uint8\n",
      "major_CHEMISTRY           999995 non-null uint8\n",
      "major_PHYSICS             999995 non-null uint8\n",
      "major_COMPSCI             999995 non-null uint8\n",
      "major_MATH                999995 non-null uint8\n",
      "major_BUSINESS            999995 non-null uint8\n",
      "major_ENGINEERING         999995 non-null uint8\n",
      "industry_EDUCATION        999995 non-null uint8\n",
      "industry_SERVICE          999995 non-null uint8\n",
      "industry_AUTO             999995 non-null uint8\n",
      "industry_HEALTH           999995 non-null uint8\n",
      "industry_WEB              999995 non-null uint8\n",
      "industry_FINANCE          999995 non-null uint8\n",
      "industry_OIL              999995 non-null uint8\n",
      "dtypes: int64(11), uint8(29)\n",
      "memory usage: 159.2 MB\n"
     ]
    }
   ],
   "source": [
    "train_cleaned_features.info()"
   ]
  },
  {
   "cell_type": "markdown",
   "metadata": {},
   "source": [
    "### ---- 8 Create models ----"
   ]
  },
  {
   "cell_type": "code",
   "execution_count": 37,
   "metadata": {},
   "outputs": [],
   "source": [
    "#initialize models\n",
    "lr = LinearRegression()\n",
    "rf = RandomForestRegressor()\n",
    "gbm = GradientBoostingRegressor()\n",
    "\n",
    "#containers\n",
    "models = []\n",
    "mean_mse = {}\n",
    "cv_std = {}"
   ]
  },
  {
   "cell_type": "markdown",
   "metadata": {},
   "source": [
    "### Tune models' hyperparameters"
   ]
  },
  {
   "cell_type": "markdown",
   "metadata": {},
   "source": [
    "#### Tune hyperparameters for Random Forest Regressor"
   ]
  },
  {
   "cell_type": "code",
   "execution_count": 51,
   "metadata": {},
   "outputs": [
    {
     "name": "stdout",
     "output_type": "stream",
     "text": [
      "1 depth\n",
      "The OOB Score is: 0.1113328620369437\n",
      " \n",
      "2 depth\n",
      "The OOB Score is: 0.2737664126715794\n",
      " \n",
      "3 depth\n",
      "The OOB Score is: 0.38773532641504904\n",
      " \n",
      "4 depth\n",
      "The OOB Score is: 0.45344545515321044\n",
      " \n",
      "5 depth\n",
      "The OOB Score is: 0.498497832356007\n",
      " \n",
      "10 depth\n",
      "The OOB Score is: 0.6166688681400851\n",
      " \n",
      "20 depth\n",
      "The OOB Score is: 0.6103687601999528\n",
      " \n"
     ]
    },
    {
     "data": {
      "image/png": "[encoded data removed]",
      "text/plain": [
       "<Figure size 432x288 with 1 Axes>"
      ]
     },
     "metadata": {
      "needs_background": "light"
     },
     "output_type": "display_data"
    }
   ],
   "source": [
    "oob_scores  =  []\n",
    "max_depth_size  = [1, 2, 3, 4, 5, 10, 20]\n",
    "\n",
    "for depth in max_depth_size:\n",
    "    model = RandomForestRegressor(max_depth=depth, oob_score=True, n_jobs=-1, random_state=44)\n",
    "    model.fit(train_cleaned_features, train_cleaned_target)\n",
    "    print(depth, 'depth')\n",
    "    oob = model.oob_score_\n",
    "    print('The OOB Score is: ' + str(model.oob_score_))\n",
    "    oob_scores.append(oob)\n",
    "    print (\" \")\n",
    "\n",
    "plt.plot(max_depth_size, oob_scores, label='Out-of-bag Score')\n",
    "plt.xlabel('Max Depth Size')\n",
    "plt.ylabel('Score')\n",
    "plt.title('Out-of-bag Scores')\n",
    "plt.legend(loc=\"lower right\")\n",
    "plt.show()"
   ]
  },
  {
   "cell_type": "code",
   "execution_count": 52,
   "metadata": {},
   "outputs": [
    {
     "name": "stdout",
     "output_type": "stream",
     "text": [
      "1 trees\n",
      "The OOB Score is: -5.486567750281481\n",
      " \n",
      "2 trees\n",
      "The OOB Score is: -3.2595535878544917\n",
      " \n",
      "3 trees\n",
      "The OOB Score is: -1.8450997897569956\n",
      " \n",
      "4 trees\n",
      "The OOB Score is: -0.9435440221136313\n",
      " \n",
      "5 trees\n",
      "The OOB Score is: -0.36947597548423494\n",
      " \n",
      "15 trees\n",
      "The OOB Score is: 0.6591149131117711\n",
      " \n",
      "20 trees\n",
      "The OOB Score is: 0.678699574983406\n",
      " \n",
      "25 trees\n",
      "The OOB Score is: 0.6853908393130376\n",
      " \n",
      "40 trees\n",
      "The OOB Score is: 0.6936266016606256\n",
      " \n",
      "50 trees\n",
      "The OOB Score is: 0.6962557438859045\n",
      " \n"
     ]
    },
    {
     "data": {
      "image/png": "[encoded data removed]",
      "text/plain": [
       "<Figure size 432x288 with 1 Axes>"
      ]
     },
     "metadata": {
      "needs_background": "light"
     },
     "output_type": "display_data"
    }
   ],
   "source": [
    "oob_scores = []\n",
    "n_estimator_options = [1, 2, 3, 4, 5, 15, 20, 25, 40, 50]\n",
    "\n",
    "for trees in n_estimator_options:\n",
    "    model = RandomForestRegressor(n_estimators = trees, oob_score=True, n_jobs=-1, random_state=44)\n",
    "    model.fit(train_cleaned_features, train_cleaned_target)\n",
    "    print(trees, 'trees')\n",
    "    oob = model.oob_score_\n",
    "    print('The OOB Score is: ' + str(model.oob_score_))\n",
    "    oob_scores.append(oob)\n",
    "    print (\" \")\n",
    "    \n",
    "plt.plot(n_estimator_options, oob_scores, label='Out-of-bag Score')\n",
    "plt.xlabel('# of Trees')\n",
    "plt.ylabel('Score')\n",
    "plt.title('Out-of-bag Score')\n",
    "plt.legend(loc=\"lower right\")\n",
    "plt.show()"
   ]
  },
  {
   "cell_type": "code",
   "execution_count": 55,
   "metadata": {},
   "outputs": [
    {
     "name": "stdout",
     "output_type": "stream",
     "text": [
      "1 min samples\n",
      "The OOB Score is: 0.5488779430980624\n",
      " \n",
      "2 min samples\n",
      "The OOB Score is: 0.5862637677266365\n",
      " \n",
      "3 min samples\n",
      "The OOB Score is: 0.6051526495683867\n",
      " \n",
      "4 min samples\n",
      "The OOB Score is: 0.6164541063113667\n",
      " \n",
      "5 min samples\n",
      "The OOB Score is: 0.6236377555577788\n",
      " \n",
      "6 min samples\n",
      "The OOB Score is: 0.6287226400260215\n",
      " \n",
      "7 min samples\n",
      "The OOB Score is: 0.6326771004022125\n",
      " \n",
      "8 min samples\n",
      "The OOB Score is: 0.6354982884117468\n",
      " \n",
      "9 min samples\n",
      "The OOB Score is: 0.6377958512247832\n",
      " \n",
      "10 min samples\n",
      "The OOB Score is: 0.639742773422624\n",
      " \n",
      "20 min samples\n",
      "The OOB Score is: 0.6480969525026067\n",
      " \n"
     ]
    },
    {
     "data": {
      "image/png": "[encoded data removed]",
      "text/plain": [
       "<Figure size 432x288 with 1 Axes>"
      ]
     },
     "metadata": {
      "needs_background": "light"
     },
     "output_type": "display_data"
    }
   ],
   "source": [
    "oob_scores = []\n",
    "min_samples_leaf_options = [1, 2, 3, 4, 5, 6, 7, 8, 9, 10, 20]\n",
    "\n",
    "for min_samples in min_samples_leaf_options:\n",
    "    model = RandomForestRegressor(min_samples_leaf=min_samples, oob_score=True, n_jobs=-1, random_state=44)\n",
    "    model.fit(train_cleaned_features, train_cleaned_target)\n",
    "    print(min_samples, \"min samples\")\n",
    "    oob = model.oob_score_\n",
    "    print('The OOB Score is: ' + str(model.oob_score_))\n",
    "    oob_scores.append(oob)\n",
    "    print (\" \")\n",
    "    \n",
    "pd.Series(oob_scores, min_samples_leaf_options).plot()\n",
    "plt.show()"
   ]
  },
  {
   "cell_type": "code",
   "execution_count": 57,
   "metadata": {},
   "outputs": [
    {
     "name": "stdout",
     "output_type": "stream",
     "text": [
      "Fitting 3 folds for each of 36 candidates, totalling 108 fits\n"
     ]
    },
    {
     "name": "stderr",
     "output_type": "stream",
     "text": [
      "[Parallel(n_jobs=-1)]: Using backend LokyBackend with 4 concurrent workers.\n",
      "[Parallel(n_jobs=-1)]: Done   5 tasks      | elapsed:  2.2min\n",
      "[Parallel(n_jobs=-1)]: Done  10 tasks      | elapsed:  3.5min\n",
      "[Parallel(n_jobs=-1)]: Done  17 tasks      | elapsed:  6.0min\n",
      "[Parallel(n_jobs=-1)]: Done  24 tasks      | elapsed:  7.6min\n",
      "[Parallel(n_jobs=-1)]: Done  33 tasks      | elapsed: 11.2min\n",
      "[Parallel(n_jobs=-1)]: Done  42 tasks      | elapsed: 14.2min\n",
      "[Parallel(n_jobs=-1)]: Done  53 tasks      | elapsed: 18.6min\n",
      "[Parallel(n_jobs=-1)]: Done  64 tasks      | elapsed: 22.3min\n",
      "[Parallel(n_jobs=-1)]: Done  77 tasks      | elapsed: 27.1min\n",
      "[Parallel(n_jobs=-1)]: Done  90 tasks      | elapsed: 32.2min\n",
      "[Parallel(n_jobs=-1)]: Done 108 out of 108 | elapsed: 39.1min finished\n"
     ]
    }
   ],
   "source": [
    "from sklearn.model_selection import GridSearchCV\n",
    "param_grid = {\"max_depth\": [8,9,10,11],\n",
    "              \"min_samples_leaf\" : [20,25,30],\n",
    "              \"n_estimators\": [15,20,25]}\n",
    "\n",
    "model = RandomForestRegressor()\n",
    "gs_cv = GridSearchCV(model, param_grid = param_grid, cv = 3, verbose=10, n_jobs=-1).fit(train_cleaned_features, train_cleaned_target)"
   ]
  },
  {
   "cell_type": "code",
   "execution_count": 58,
   "metadata": {},
   "outputs": [
    {
     "data": {
      "text/plain": [
       "RandomForestRegressor(bootstrap=True, criterion='mse', max_depth=11,\n",
       "                      max_features='auto', max_leaf_nodes=None,\n",
       "                      min_impurity_decrease=0.0, min_impurity_split=None,\n",
       "                      min_samples_leaf=30, min_samples_split=2,\n",
       "                      min_weight_fraction_leaf=0.0, n_estimators=25,\n",
       "                      n_jobs=None, oob_score=False, random_state=None,\n",
       "                      verbose=0, warm_start=False)"
      ]
     },
     "execution_count": 58,
     "metadata": {},
     "output_type": "execute_result"
    }
   ],
   "source": [
    "#select best model\n",
    "rf_tuned = gs_cv.best_estimator_\n",
    "rf_tuned"
   ]
  },
  {
   "cell_type": "markdown",
   "metadata": {},
   "source": [
    "#### Tune hyperparameters for Gradient Boosting Regressor"
   ]
  },
  {
   "cell_type": "code",
   "execution_count": 38,
   "metadata": {},
   "outputs": [
    {
     "data": {
      "image/png": "[encoded data removed]",
      "text/plain": [
       "<Figure size 432x288 with 1 Axes>"
      ]
     },
     "metadata": {
      "needs_background": "light"
     },
     "output_type": "display_data"
    }
   ],
   "source": [
    "results = []\n",
    "\n",
    "for depth in [5, 10, 12]:\n",
    "    gbrt = GradientBoostingRegressor(max_depth = depth)\n",
    "    gbrt.fit(train_cleaned_features, train_cleaned_target)\n",
    "    results.append({'max_depth': depth,\n",
    "                   'train_error': mean_squared_error(train_cleaned_target, gbrt.predict(train_cleaned_features))})\n",
    "\n",
    "max_depth_lr = pd.DataFrame(results).set_index('max_depth').sort_index()\n",
    "max_depth_lr.plot(title=\"Max_Depth Learning Curve\")\n",
    "plt.show()"
   ]
  },
  {
   "cell_type": "code",
   "execution_count": 41,
   "metadata": {},
   "outputs": [
    {
     "data": {
      "image/png": "[encoded data removed]",
      "text/plain": [
       "<Figure size 432x288 with 1 Axes>"
      ]
     },
     "metadata": {
      "needs_background": "light"
     },
     "output_type": "display_data"
    }
   ],
   "source": [
    "results = []\n",
    "\n",
    "for rate in [0.05, 0.1, 0.15]:\n",
    "    gbrt = GradientBoostingRegressor(learning_rate = rate)\n",
    "    gbrt.fit(train_cleaned_features, train_cleaned_target)\n",
    "    results.append({'learning_rate': rate,\n",
    "                    'train_error': mean_squared_error(train_cleaned_target, gbrt.predict(train_cleaned_features)),})\n",
    "\n",
    "learning_rate_lr = pd.DataFrame(results).set_index('learning_rate').sort_index()\n",
    "learning_rate_lr.plot(title = 'Learning Rate Learning Curve')\n",
    "plt.show()"
   ]
  },
  {
   "cell_type": "markdown",
   "metadata": {},
   "source": [
    "### ---- 9 Test models ----"
   ]
  },
  {
   "cell_type": "code",
   "execution_count": 45,
   "metadata": {
    "scrolled": false
   },
   "outputs": [
    {
     "name": "stdout",
     "output_type": "stream",
     "text": [
      "\n",
      "Model:\n",
      " LinearRegression(copy_X=True, fit_intercept=True, n_jobs=None, normalize=False)\n",
      "Average MSE:\n",
      " 384.4192961870642\n",
      "Standard deviation during CV:\n",
      " 1.7785312636468362\n",
      "\n",
      "Model:\n",
      " RandomForestRegressor(bootstrap=True, criterion='mse', max_depth=11,\n",
      "                      max_features='auto', max_leaf_nodes=None,\n",
      "                      min_impurity_decrease=0.0, min_impurity_split=None,\n",
      "                      min_samples_leaf=30, min_samples_split=2,\n",
      "                      min_weight_fraction_leaf=0.0, n_estimators=25,\n",
      "                      n_jobs=None, oob_score=False, random_state=None,\n",
      "                      verbose=0, warm_start=False)\n",
      "Average MSE:\n",
      " 402.48265242987645\n",
      "Standard deviation during CV:\n",
      " 1.9546860241444626\n",
      "\n",
      "Model:\n",
      " GradientBoostingRegressor(alpha=0.9, criterion='friedman_mse', init=None,\n",
      "                          learning_rate=0.1, loss='ls', max_depth=5,\n",
      "                          max_features=None, max_leaf_nodes=None,\n",
      "                          min_impurity_decrease=0.0, min_impurity_split=None,\n",
      "                          min_samples_leaf=1, min_samples_split=2,\n",
      "                          min_weight_fraction_leaf=0.0, n_estimators=150,\n",
      "                          n_iter_no_change=None, presort='auto',\n",
      "                          random_state=None, subsample=1.0, tol=0.0001,\n",
      "                          validation_fraction=0.1, verbose=0, warm_start=False)\n",
      "Average MSE:\n",
      " 357.2670720463344\n",
      "Standard deviation during CV:\n",
      " 1.446763960010119\n"
     ]
    }
   ],
   "source": [
    "#detailed settings of tuned models\n",
    "rf_tuned = RandomForestRegressor(bootstrap=True, max_depth=11, max_features='auto', max_leaf_nodes=None,\n",
    "                                 min_samples_leaf=30, min_samples_split=2, n_estimators=25)\n",
    "\n",
    "gbm_tuned = GradientBoostingRegressor(alpha=0.9, learning_rate=0.1, max_depth=5, max_features=None,\n",
    "                                      max_leaf_nodes=None, min_samples_leaf=1, min_samples_split=2, n_estimators=150)\n",
    "\n",
    "#add models to list\n",
    "models.extend([lr, rf_tuned, gbm_tuned])\n",
    "\n",
    "#train models\n",
    "cv_folds = 5\n",
    "for model in models:\n",
    "    train_model(model, train_cleaned_features, train_cleaned_target, cv_folds, mean_mse, cv_std)\n",
    "    print_summary(model, mean_mse, cv_std)"
   ]
  },
  {
   "cell_type": "markdown",
   "metadata": {},
   "source": [
    "### ---- 10 Select best model  ----"
   ]
  },
  {
   "cell_type": "code",
   "execution_count": 46,
   "metadata": {},
   "outputs": [
    {
     "name": "stdout",
     "output_type": "stream",
     "text": [
      "Best model: GradientBoostingRegressor(alpha=0.9, criterion='friedman_mse', init=None,\n",
      "                          learning_rate=0.1, loss='ls', max_depth=5,\n",
      "                          max_features=None, max_leaf_nodes=None,\n",
      "                          min_impurity_decrease=0.0, min_impurity_split=None,\n",
      "                          min_samples_leaf=1, min_samples_split=2,\n",
      "                          min_weight_fraction_leaf=0.0, n_estimators=150,\n",
      "                          n_iter_no_change=None, presort='auto',\n",
      "                          random_state=None, subsample=1.0, tol=0.0001,\n",
      "                          validation_fraction=0.1, verbose=0, warm_start=False)\n",
      "\n",
      "\n",
      "Best model Cross-validation MSE: 357.2671\n"
     ]
    }
   ],
   "source": [
    "model = choose_best_model(mean_mse)"
   ]
  },
  {
   "cell_type": "code",
   "execution_count": 39,
   "metadata": {},
   "outputs": [
    {
     "name": "stdout",
     "output_type": "stream",
     "text": [
      "suburb                 0.000062\n",
      "city                   0.000121\n",
      "advancedDegree         0.000404\n",
      "degree                 0.003075\n",
      "technical              0.008488\n",
      "rural                  0.009433\n",
      "yearsExperience        0.033807\n",
      "industry               0.049295\n",
      "major                  0.051960\n",
      "seniorManagement       0.054377\n",
      "onDemand               0.066901\n",
      "milesFromMetropolis    0.118909\n",
      "jobType                0.171588\n",
      "executives             0.198666\n",
      "imputedAge             0.232914\n",
      "dtype: float64\n"
     ]
    },
    {
     "data": {
      "image/png": "[encoded data removed]",
      "text/plain": [
       "<Figure size 1296x1080 with 1 Axes>"
      ]
     },
     "metadata": {
      "needs_background": "light"
     },
     "output_type": "display_data"
    }
   ],
   "source": [
    "#fit best model on entire train df\n",
    "model.fit(train_cleaned_features, train_cleaned_target)\n",
    "\n",
    "#store feature importances\n",
    "if hasattr(model, 'feature_importances_'):\n",
    "    importances = model.feature_importances_\n",
    "else:\n",
    "    #linear models don't have feature_importances_\n",
    "    importances = [0]*len(train_cleaned_features.columns)\n",
    "    \n",
    "feature_importances = pd.DataFrame({'feature':train_cleaned_features.columns, 'importance':importances})\n",
    "feature_importances.sort_values(by='importance', ascending=False, inplace=True)\n",
    "\n",
    "#set index to 'feature'\n",
    "feature_importances.set_index('feature', inplace=True, drop=True)\n",
    "results = graph_feature_importances(model, train_cleaned_features.columns, summarized_columns = summarized_columns)"
   ]
  },
  {
   "cell_type": "markdown",
   "metadata": {},
   "source": [
    "## Part 4 - DEPLOY"
   ]
  },
  {
   "cell_type": "markdown",
   "metadata": {},
   "source": [
    "### ---- 11 Automate pipeline ----"
   ]
  },
  {
   "cell_type": "code",
   "execution_count": 6,
   "metadata": {},
   "outputs": [],
   "source": [
    "#write script that trains model on entire training set, saves model to disk, and scores the \"test\" dataset\n",
    "def salary_prediction_pipeline(train_features_file, train_target_file, test_features_file, \n",
    "                               categorical_features_names, numerical_features_names):\n",
    "    \n",
    "    #load data\n",
    "    print('Loading data...')\n",
    "    train_features = load_file(train_features_file)\n",
    "    train_target = load_file(train_target_file)\n",
    "    test_features = load_file(test_features_file)\n",
    "    \n",
    "    #clean data\n",
    "    print('Merging data...')\n",
    "    train = merge_data(train_features, train_target, 'jobId')\n",
    "    \n",
    "    print('Clearning data...')\n",
    "    '''Only the train df needs to be cleaned (dropping salaries below zero)'''\n",
    "    train_cleaned = clean_data(train)\n",
    "    \n",
    "    print('Encoding categorical variables...')\n",
    "    '''Only the helpful catergorical and numerical variables are included'''\n",
    "    cat_features = categorical_features_names\n",
    "    num_features = numerical_features_names\n",
    "    encode_category(train_cleaned, cat_features)\n",
    "    \n",
    "    #separate cleaned train target\n",
    "    print('Separating cleaned train target...')\n",
    "    train_cleaned_target = train_cleaned.salary\n",
    "    train_cleaned_features = train_cleaned[num_features + cat_features]\n",
    "    \n",
    "    #feature engineering\n",
    "    print('Engineering Features for train dataset...')\n",
    "    train_cleaned_features, summarized_columns = feature_engineering(train_cleaned_features)\n",
    "    \n",
    "    #encoding dummies\n",
    "    print('Encoding dummies...')\n",
    "    train_cleaned_features = encode_dummies(train_cleaned_features, cat_features)\n",
    "    \n",
    "    #initialize tuned models\n",
    "    print('Initializing models...')\n",
    "    lr = LinearRegression()\n",
    "    rf = RandomForestRegressor(bootstrap=True, max_depth=11, max_features='auto', max_leaf_nodes=None,\n",
    "                               min_samples_leaf=30, min_samples_split=2, n_estimators=25)\n",
    "    gbm = GradientBoostingRegressor(alpha=0.9, learning_rate=0.1, max_depth=5, max_features=None,\n",
    "                                    max_leaf_nodes=None, min_samples_leaf=1, min_samples_split=2, n_estimators=150)\n",
    "\n",
    "    #containers\n",
    "    models = [lr, rf, gbm]\n",
    "    mean_mse = {}\n",
    "    cv_std = {}\n",
    "\n",
    "    #train models under 5-fold cross-validation and selecting best model based on MSE\n",
    "    print('Training models under 5-fold cross-validation...')\n",
    "    cv_folds = 5\n",
    "    for model in models:\n",
    "        train_model(model, train_cleaned_features, train_cleaned_target, cv_folds, mean_mse, cv_std)\n",
    "        print_summary(model, mean_mse, cv_std)\n",
    "    print('Selecting best model on MSE...')\n",
    "    model = choose_best_model(mean_mse)\n",
    "    \n",
    "    #train best model on entire train dataset\n",
    "    print('Training best model on entire train dataset...')\n",
    "    model.fit(train_cleaned_features, train_cleaned_target)\n",
    "    predict = model.predict(train_cleaned_features)\n",
    "    print('MSE of model prediction on entire train dataset: ', \n",
    "          '{:.4f}'.format(mean_squared_error(train_cleaned.salary, predict)))\n",
    "    \n",
    "    #create predictions based on test data\n",
    "    print('Engineering features for test dataset...')\n",
    "    encode_category(test_features, cat_features)\n",
    "    test_features = test_features[num_features + cat_features]\n",
    "    test_features, test_df_summarized_columns = feature_engineering(test_features)\n",
    "    test_features = encode_dummies(test_features, cat_features)\n",
    "    print('Creating predictions based on test dataset...')\n",
    "    test_df_predictions = model.predict(test_features)\n",
    "    \n",
    "    #store features importances\n",
    "    if hasattr(model, 'feature_importances_'):\n",
    "        importances = model.feature_importances_\n",
    "    else:\n",
    "        #linear models don't have feature_importances_\n",
    "        importances = [0]*len(train_cleaned_features.columns)\n",
    "    feature_importances = pd.DataFrame({'feature':train_cleaned_features.columns, 'importance':importances})\n",
    "    feature_importances.sort_values(by='importance', ascending=False, inplace=True)\n",
    "    \n",
    "    #group dummy features importances back together\n",
    "    results = graph_feature_importances(model, train_cleaned_features.columns, \n",
    "                                        summarized_columns = summarized_columns)\n",
    "    \n",
    "    #save results to disk\n",
    "    print('Saving model...')\n",
    "    print('Saving prediction...')\n",
    "    print('Saving feature importances...')\n",
    "    save_results(model, test_df_predictions, results)\n",
    "    \n",
    "    #create visualizations\n",
    "    print('Creating visualizations...')\n",
    "    print('Saving visualizations...')\n",
    "    with PdfPages('multipage_pdf.pdf') as pdf:\n",
    "        #feature importances\n",
    "        feature_importances_fig = graph_feature_importances(model, train_cleaned_features.columns, \n",
    "                                                            summarized_columns = summarized_columns)\n",
    "        plt.title('Feature Importances in the train dataset.')\n",
    "        pdf.savefig(feature_importances_fig)\n",
    "        plt.close()\n",
    "\n",
    "        predicted_salary_dist = plt.figure(figsize = (18,8))\n",
    "        plt.subplot(121)\n",
    "        sns.distplot(test_df_predictions, bins = 20)\n",
    "        plt.subplot(122)\n",
    "        sns.boxplot(test_df_predictions)\n",
    "        plt.title('Predicted Salary Distribution.')\n",
    "        pdf.savefig(predicted_salary_dist)\n",
    "        plt.close()\n",
    "    \n",
    "    #finished\n",
    "    print('Finished.')"
   ]
  },
  {
   "cell_type": "markdown",
   "metadata": {},
   "source": [
    "### ---- 12 Deploy solution ----"
   ]
  },
  {
   "cell_type": "code",
   "execution_count": 7,
   "metadata": {
    "scrolled": false
   },
   "outputs": [
    {
     "name": "stdout",
     "output_type": "stream",
     "text": [
      "Loading data...\n",
      "Merging data...\n",
      "Clearning data...\n",
      "Encoding categorical variables...\n",
      "Separating cleaned train target...\n",
      "Engineering Features for train dataset...\n",
      "Encoding dummies...\n",
      "Initializing models...\n",
      "Training models under 5-fold cross-validation...\n",
      "\n",
      "Model:\n",
      " LinearRegression(copy_X=True, fit_intercept=True, n_jobs=None, normalize=False)\n",
      "Average MSE:\n",
      " 384.4192978836279\n",
      "Standard deviation during CV:\n",
      " 1.7785276698145402\n",
      "\n",
      "Model:\n",
      " RandomForestRegressor(bootstrap=True, criterion='mse', max_depth=11,\n",
      "                      max_features='auto', max_leaf_nodes=None,\n",
      "                      min_impurity_decrease=0.0, min_impurity_split=None,\n",
      "                      min_samples_leaf=30, min_samples_split=2,\n",
      "                      min_weight_fraction_leaf=0.0, n_estimators=25,\n",
      "                      n_jobs=None, oob_score=False, random_state=None,\n",
      "                      verbose=0, warm_start=False)\n",
      "Average MSE:\n",
      " 402.746816558794\n",
      "Standard deviation during CV:\n",
      " 2.071713289596382\n",
      "\n",
      "Model:\n",
      " GradientBoostingRegressor(alpha=0.9, criterion='friedman_mse', init=None,\n",
      "                          learning_rate=0.1, loss='ls', max_depth=5,\n",
      "                          max_features=None, max_leaf_nodes=None,\n",
      "                          min_impurity_decrease=0.0, min_impurity_split=None,\n",
      "                          min_samples_leaf=1, min_samples_split=2,\n",
      "                          min_weight_fraction_leaf=0.0, n_estimators=150,\n",
      "                          n_iter_no_change=None, presort='auto',\n",
      "                          random_state=None, subsample=1.0, tol=0.0001,\n",
      "                          validation_fraction=0.1, verbose=0, warm_start=False)\n",
      "Average MSE:\n",
      " 357.26734153764875\n",
      "Standard deviation during CV:\n",
      " 1.4467858934427251\n",
      "Selecting best model on MSE...\n",
      "Best model: GradientBoostingRegressor(alpha=0.9, criterion='friedman_mse', init=None,\n",
      "                          learning_rate=0.1, loss='ls', max_depth=5,\n",
      "                          max_features=None, max_leaf_nodes=None,\n",
      "                          min_impurity_decrease=0.0, min_impurity_split=None,\n",
      "                          min_samples_leaf=1, min_samples_split=2,\n",
      "                          min_weight_fraction_leaf=0.0, n_estimators=150,\n",
      "                          n_iter_no_change=None, presort='auto',\n",
      "                          random_state=None, subsample=1.0, tol=0.0001,\n",
      "                          validation_fraction=0.1, verbose=0, warm_start=False)\n",
      "\n",
      "\n",
      "Best model Cross-validation MSE: 357.2673\n",
      "Training best model on entire train dataset...\n",
      "MSE of model prediction on entire train dataset:  355.3981\n",
      "Engineering features for test dataset...\n",
      "Creating predictions based on test dataset...\n",
      "Saving model...\n",
      "Saving prediction...\n",
      "Saving feature importances...\n",
      "Creating visualizations...\n",
      "Saving visualizations...\n",
      "Finished.\n"
     ]
    }
   ],
   "source": [
    "salary_prediction_pipeline(\"data/train_features.csv\", \"data/train_salaries.csv\", \"data/test_features.csv\", ['jobType', 'degree', 'major', 'industry'], ['yearsExperience', 'milesFromMetropolis'])"
   ]
  },
  {
   "cell_type": "markdown",
   "metadata": {},
   "source": [
    "### ---- 13 Measure efficacy ----"
   ]
  },
  {
   "cell_type": "markdown",
   "metadata": {},
   "source": [
    "We'll skip this step since we don't have the outcomes for the test data"
   ]
  }
 ],
 "metadata": {
  "kernelspec": {
   "display_name": "Python 3",
   "language": "python",
   "name": "python3"
  },
  "language_info": {
   "codemirror_mode": {
    "name": "ipython",
    "version": 3
   },
   "file_extension": ".py",
   "mimetype": "text/x-python",
   "name": "python",
   "nbconvert_exporter": "python",
   "pygments_lexer": "ipython3",
   "version": "3.7.3"
  }
 },
 "nbformat": 4,
 "nbformat_minor": 2
}
